{
 "cells": [
  {
   "cell_type": "markdown",
   "id": "9b2ee996",
   "metadata": {},
   "source": [
    "# DM 팀프로젝트 5팀 뽀얌쿵야 코드\n",
    "#### 추가로 Grid Search가 몇 분 이상 걸리는 부분은 주석 처리 해놓았습니다"
   ]
  },
  {
   "cell_type": "code",
   "execution_count": 1,
   "id": "6a982962",
   "metadata": {},
   "outputs": [],
   "source": [
    "import sys\n",
    "import pandas as pd\n",
    "import matplotlib\n",
    "import numpy as np\n",
    "import scipy as sp\n",
    "import IPython\n",
    "import sklearn\n",
    "import mglearn\n",
    "import matplotlib.pyplot as plt\n",
    "from matplotlib import rc\n",
    "import seaborn as sns\n",
    "from sklearn.tree import DecisionTreeClassifier\n",
    "from sklearn.model_selection import train_test_split\n",
    "from sklearn.metrics import accuracy_score\n",
    "from matplotlib import font_manager, rc\n",
    "\n",
    "rc('font', family='AppleGothic')\n",
    "plt.rcParams['axes.unicode_minus'] = False"
   ]
  },
  {
   "cell_type": "code",
   "execution_count": 2,
   "id": "08cb960a",
   "metadata": {},
   "outputs": [],
   "source": [
    "df = pd.read_csv(\"뽀얌쿵야_데이터마이닝_전처리데이터.csv\")"
   ]
  },
  {
   "cell_type": "code",
   "execution_count": 3,
   "id": "bc822cbe",
   "metadata": {},
   "outputs": [],
   "source": [
    "df['피해운전자 상해정도'] = df['피해운전자 상해정도'].replace({'부상신고': '경상', '사망': '중상'})"
   ]
  },
  {
   "cell_type": "code",
   "execution_count": 4,
   "id": "6f582fd2",
   "metadata": {},
   "outputs": [
    {
     "data": {
      "text/html": [
       "<div>\n",
       "<style scoped>\n",
       "    .dataframe tbody tr th:only-of-type {\n",
       "        vertical-align: middle;\n",
       "    }\n",
       "\n",
       "    .dataframe tbody tr th {\n",
       "        vertical-align: top;\n",
       "    }\n",
       "\n",
       "    .dataframe thead th {\n",
       "        text-align: right;\n",
       "    }\n",
       "</style>\n",
       "<table border=\"1\" class=\"dataframe\">\n",
       "  <thead>\n",
       "    <tr style=\"text-align: right;\">\n",
       "      <th></th>\n",
       "      <th>Unnamed: 0</th>\n",
       "      <th>사고일시</th>\n",
       "      <th>요일</th>\n",
       "      <th>사고유형</th>\n",
       "      <th>법규위반</th>\n",
       "      <th>노면상태</th>\n",
       "      <th>기상상태</th>\n",
       "      <th>도로형태</th>\n",
       "      <th>가해운전자 차종</th>\n",
       "      <th>가해운전자 성별</th>\n",
       "      <th>가해운전자 연령</th>\n",
       "      <th>피해운전자 차종</th>\n",
       "      <th>피해운전자 성별</th>\n",
       "      <th>피해운전자 연령</th>\n",
       "      <th>피해운전자 상해정도</th>\n",
       "      <th>계절</th>\n",
       "      <th>시간대</th>\n",
       "      <th>구</th>\n",
       "      <th>동</th>\n",
       "    </tr>\n",
       "  </thead>\n",
       "  <tbody>\n",
       "    <tr>\n",
       "      <th>0</th>\n",
       "      <td>0</td>\n",
       "      <td>2020-01-01 05:00:00</td>\n",
       "      <td>수요일</td>\n",
       "      <td>차대사람</td>\n",
       "      <td>안전운전불이행</td>\n",
       "      <td>건조</td>\n",
       "      <td>맑음</td>\n",
       "      <td>단일로</td>\n",
       "      <td>승용</td>\n",
       "      <td>남</td>\n",
       "      <td>63.0</td>\n",
       "      <td>보행자</td>\n",
       "      <td>여</td>\n",
       "      <td>29.0</td>\n",
       "      <td>중상</td>\n",
       "      <td>겨울</td>\n",
       "      <td>새벽</td>\n",
       "      <td>강남구</td>\n",
       "      <td>도곡동</td>\n",
       "    </tr>\n",
       "    <tr>\n",
       "      <th>1</th>\n",
       "      <td>1</td>\n",
       "      <td>2020-01-01 07:00:00</td>\n",
       "      <td>수요일</td>\n",
       "      <td>차대차</td>\n",
       "      <td>안전운전불이행</td>\n",
       "      <td>건조</td>\n",
       "      <td>맑음</td>\n",
       "      <td>단일로</td>\n",
       "      <td>승용</td>\n",
       "      <td>남</td>\n",
       "      <td>29.0</td>\n",
       "      <td>승용</td>\n",
       "      <td>남</td>\n",
       "      <td>41.0</td>\n",
       "      <td>경상</td>\n",
       "      <td>겨울</td>\n",
       "      <td>오전</td>\n",
       "      <td>강남구</td>\n",
       "      <td>논현동</td>\n",
       "    </tr>\n",
       "    <tr>\n",
       "      <th>2</th>\n",
       "      <td>3</td>\n",
       "      <td>2020-01-01 18:00:00</td>\n",
       "      <td>수요일</td>\n",
       "      <td>차대사람</td>\n",
       "      <td>큰 위반</td>\n",
       "      <td>건조</td>\n",
       "      <td>맑음</td>\n",
       "      <td>단일로</td>\n",
       "      <td>승용</td>\n",
       "      <td>남</td>\n",
       "      <td>44.0</td>\n",
       "      <td>보행자</td>\n",
       "      <td>남</td>\n",
       "      <td>42.0</td>\n",
       "      <td>경상</td>\n",
       "      <td>겨울</td>\n",
       "      <td>오후</td>\n",
       "      <td>강남구</td>\n",
       "      <td>삼성동</td>\n",
       "    </tr>\n",
       "    <tr>\n",
       "      <th>3</th>\n",
       "      <td>4</td>\n",
       "      <td>2020-01-01 18:00:00</td>\n",
       "      <td>수요일</td>\n",
       "      <td>차대차</td>\n",
       "      <td>작은 위반</td>\n",
       "      <td>건조</td>\n",
       "      <td>맑음</td>\n",
       "      <td>교차로</td>\n",
       "      <td>승용</td>\n",
       "      <td>여</td>\n",
       "      <td>47.0</td>\n",
       "      <td>승용</td>\n",
       "      <td>남</td>\n",
       "      <td>34.0</td>\n",
       "      <td>경상</td>\n",
       "      <td>겨울</td>\n",
       "      <td>오후</td>\n",
       "      <td>강남구</td>\n",
       "      <td>역삼동</td>\n",
       "    </tr>\n",
       "    <tr>\n",
       "      <th>4</th>\n",
       "      <td>6</td>\n",
       "      <td>2020-01-01 22:00:00</td>\n",
       "      <td>수요일</td>\n",
       "      <td>차대차</td>\n",
       "      <td>안전운전불이행</td>\n",
       "      <td>건조</td>\n",
       "      <td>맑음</td>\n",
       "      <td>단일로</td>\n",
       "      <td>승합</td>\n",
       "      <td>남</td>\n",
       "      <td>50.0</td>\n",
       "      <td>승합</td>\n",
       "      <td>남</td>\n",
       "      <td>51.0</td>\n",
       "      <td>경상</td>\n",
       "      <td>겨울</td>\n",
       "      <td>밤</td>\n",
       "      <td>강남구</td>\n",
       "      <td>삼성동</td>\n",
       "    </tr>\n",
       "    <tr>\n",
       "      <th>...</th>\n",
       "      <td>...</td>\n",
       "      <td>...</td>\n",
       "      <td>...</td>\n",
       "      <td>...</td>\n",
       "      <td>...</td>\n",
       "      <td>...</td>\n",
       "      <td>...</td>\n",
       "      <td>...</td>\n",
       "      <td>...</td>\n",
       "      <td>...</td>\n",
       "      <td>...</td>\n",
       "      <td>...</td>\n",
       "      <td>...</td>\n",
       "      <td>...</td>\n",
       "      <td>...</td>\n",
       "      <td>...</td>\n",
       "      <td>...</td>\n",
       "      <td>...</td>\n",
       "      <td>...</td>\n",
       "    </tr>\n",
       "    <tr>\n",
       "      <th>96842</th>\n",
       "      <td>118149</td>\n",
       "      <td>2022-12-30 18:00:00</td>\n",
       "      <td>금요일</td>\n",
       "      <td>차대차</td>\n",
       "      <td>안전운전불이행</td>\n",
       "      <td>건조</td>\n",
       "      <td>맑음</td>\n",
       "      <td>단일로</td>\n",
       "      <td>승합</td>\n",
       "      <td>남</td>\n",
       "      <td>51.0</td>\n",
       "      <td>승용</td>\n",
       "      <td>여</td>\n",
       "      <td>44.0</td>\n",
       "      <td>중상</td>\n",
       "      <td>겨울</td>\n",
       "      <td>오후</td>\n",
       "      <td>중랑구</td>\n",
       "      <td>중화동</td>\n",
       "    </tr>\n",
       "    <tr>\n",
       "      <th>96843</th>\n",
       "      <td>118150</td>\n",
       "      <td>2022-12-30 20:00:00</td>\n",
       "      <td>금요일</td>\n",
       "      <td>차대차</td>\n",
       "      <td>안전운전불이행</td>\n",
       "      <td>건조</td>\n",
       "      <td>맑음</td>\n",
       "      <td>교차로</td>\n",
       "      <td>승용</td>\n",
       "      <td>남</td>\n",
       "      <td>39.0</td>\n",
       "      <td>승용</td>\n",
       "      <td>남</td>\n",
       "      <td>34.0</td>\n",
       "      <td>중상</td>\n",
       "      <td>겨울</td>\n",
       "      <td>밤</td>\n",
       "      <td>중랑구</td>\n",
       "      <td>망우동</td>\n",
       "    </tr>\n",
       "    <tr>\n",
       "      <th>96844</th>\n",
       "      <td>118152</td>\n",
       "      <td>2022-12-31 14:00:00</td>\n",
       "      <td>토요일</td>\n",
       "      <td>차대차</td>\n",
       "      <td>안전운전불이행</td>\n",
       "      <td>습기</td>\n",
       "      <td>맑음</td>\n",
       "      <td>단일로</td>\n",
       "      <td>승합</td>\n",
       "      <td>남</td>\n",
       "      <td>39.0</td>\n",
       "      <td>이륜</td>\n",
       "      <td>남</td>\n",
       "      <td>70.0</td>\n",
       "      <td>경상</td>\n",
       "      <td>겨울</td>\n",
       "      <td>오후</td>\n",
       "      <td>중랑구</td>\n",
       "      <td>면목동</td>\n",
       "    </tr>\n",
       "    <tr>\n",
       "      <th>96845</th>\n",
       "      <td>118153</td>\n",
       "      <td>2022-12-31 19:00:00</td>\n",
       "      <td>토요일</td>\n",
       "      <td>차대차</td>\n",
       "      <td>작은 위반</td>\n",
       "      <td>건조</td>\n",
       "      <td>맑음</td>\n",
       "      <td>교차로</td>\n",
       "      <td>승용</td>\n",
       "      <td>여</td>\n",
       "      <td>53.0</td>\n",
       "      <td>이륜</td>\n",
       "      <td>남</td>\n",
       "      <td>25.0</td>\n",
       "      <td>경상</td>\n",
       "      <td>겨울</td>\n",
       "      <td>밤</td>\n",
       "      <td>중랑구</td>\n",
       "      <td>신내동</td>\n",
       "    </tr>\n",
       "    <tr>\n",
       "      <th>96846</th>\n",
       "      <td>118154</td>\n",
       "      <td>2022-12-31 23:00:00</td>\n",
       "      <td>토요일</td>\n",
       "      <td>차대차</td>\n",
       "      <td>작은 위반</td>\n",
       "      <td>건조</td>\n",
       "      <td>맑음</td>\n",
       "      <td>단일로</td>\n",
       "      <td>승합</td>\n",
       "      <td>남</td>\n",
       "      <td>47.0</td>\n",
       "      <td>이륜</td>\n",
       "      <td>남</td>\n",
       "      <td>54.0</td>\n",
       "      <td>경상</td>\n",
       "      <td>겨울</td>\n",
       "      <td>밤</td>\n",
       "      <td>중랑구</td>\n",
       "      <td>면목동</td>\n",
       "    </tr>\n",
       "  </tbody>\n",
       "</table>\n",
       "<p>96847 rows × 19 columns</p>\n",
       "</div>"
      ],
      "text/plain": [
       "       Unnamed: 0                 사고일시   요일  사고유형     법규위반 노면상태 기상상태 도로형태  \\\n",
       "0               0  2020-01-01 05:00:00  수요일  차대사람  안전운전불이행   건조   맑음  단일로   \n",
       "1               1  2020-01-01 07:00:00  수요일   차대차  안전운전불이행   건조   맑음  단일로   \n",
       "2               3  2020-01-01 18:00:00  수요일  차대사람     큰 위반   건조   맑음  단일로   \n",
       "3               4  2020-01-01 18:00:00  수요일   차대차    작은 위반   건조   맑음  교차로   \n",
       "4               6  2020-01-01 22:00:00  수요일   차대차  안전운전불이행   건조   맑음  단일로   \n",
       "...           ...                  ...  ...   ...      ...  ...  ...  ...   \n",
       "96842      118149  2022-12-30 18:00:00  금요일   차대차  안전운전불이행   건조   맑음  단일로   \n",
       "96843      118150  2022-12-30 20:00:00  금요일   차대차  안전운전불이행   건조   맑음  교차로   \n",
       "96844      118152  2022-12-31 14:00:00  토요일   차대차  안전운전불이행   습기   맑음  단일로   \n",
       "96845      118153  2022-12-31 19:00:00  토요일   차대차    작은 위반   건조   맑음  교차로   \n",
       "96846      118154  2022-12-31 23:00:00  토요일   차대차    작은 위반   건조   맑음  단일로   \n",
       "\n",
       "      가해운전자 차종 가해운전자 성별  가해운전자 연령 피해운전자 차종 피해운전자 성별  피해운전자 연령 피해운전자 상해정도  계절  \\\n",
       "0           승용        남      63.0      보행자        여      29.0         중상  겨울   \n",
       "1           승용        남      29.0       승용        남      41.0         경상  겨울   \n",
       "2           승용        남      44.0      보행자        남      42.0         경상  겨울   \n",
       "3           승용        여      47.0       승용        남      34.0         경상  겨울   \n",
       "4           승합        남      50.0       승합        남      51.0         경상  겨울   \n",
       "...        ...      ...       ...      ...      ...       ...        ...  ..   \n",
       "96842       승합        남      51.0       승용        여      44.0         중상  겨울   \n",
       "96843       승용        남      39.0       승용        남      34.0         중상  겨울   \n",
       "96844       승합        남      39.0       이륜        남      70.0         경상  겨울   \n",
       "96845       승용        여      53.0       이륜        남      25.0         경상  겨울   \n",
       "96846       승합        남      47.0       이륜        남      54.0         경상  겨울   \n",
       "\n",
       "      시간대    구    동  \n",
       "0      새벽  강남구  도곡동  \n",
       "1      오전  강남구  논현동  \n",
       "2      오후  강남구  삼성동  \n",
       "3      오후  강남구  역삼동  \n",
       "4       밤  강남구  삼성동  \n",
       "...    ..  ...  ...  \n",
       "96842  오후  중랑구  중화동  \n",
       "96843   밤  중랑구  망우동  \n",
       "96844  오후  중랑구  면목동  \n",
       "96845   밤  중랑구  신내동  \n",
       "96846   밤  중랑구  면목동  \n",
       "\n",
       "[96847 rows x 19 columns]"
      ]
     },
     "execution_count": 4,
     "metadata": {},
     "output_type": "execute_result"
    }
   ],
   "source": [
    "df"
   ]
  },
  {
   "cell_type": "markdown",
   "id": "33450816",
   "metadata": {},
   "source": [
    "# 타겟변수 나누기"
   ]
  },
  {
   "cell_type": "code",
   "execution_count": 6,
   "id": "0a303f92",
   "metadata": {},
   "outputs": [
    {
     "name": "stdout",
     "output_type": "stream",
     "text": [
      "(96847, 16)\n",
      "(96847,)\n",
      "피해운전자 상해정도\n",
      "경상      66670\n",
      "중상      18320\n",
      "상해없음    11857\n",
      "Name: count, dtype: int64\n"
     ]
    },
    {
     "data": {
      "text/html": [
       "<div>\n",
       "<style scoped>\n",
       "    .dataframe tbody tr th:only-of-type {\n",
       "        vertical-align: middle;\n",
       "    }\n",
       "\n",
       "    .dataframe tbody tr th {\n",
       "        vertical-align: top;\n",
       "    }\n",
       "\n",
       "    .dataframe thead th {\n",
       "        text-align: right;\n",
       "    }\n",
       "</style>\n",
       "<table border=\"1\" class=\"dataframe\">\n",
       "  <thead>\n",
       "    <tr style=\"text-align: right;\">\n",
       "      <th></th>\n",
       "      <th>요일</th>\n",
       "      <th>사고유형</th>\n",
       "      <th>법규위반</th>\n",
       "      <th>노면상태</th>\n",
       "      <th>기상상태</th>\n",
       "      <th>도로형태</th>\n",
       "      <th>가해운전자 차종</th>\n",
       "      <th>가해운전자 성별</th>\n",
       "      <th>가해운전자 연령</th>\n",
       "      <th>피해운전자 차종</th>\n",
       "      <th>피해운전자 성별</th>\n",
       "      <th>피해운전자 연령</th>\n",
       "      <th>계절</th>\n",
       "      <th>시간대</th>\n",
       "      <th>구</th>\n",
       "      <th>동</th>\n",
       "    </tr>\n",
       "  </thead>\n",
       "  <tbody>\n",
       "    <tr>\n",
       "      <th>0</th>\n",
       "      <td>수요일</td>\n",
       "      <td>차대사람</td>\n",
       "      <td>안전운전불이행</td>\n",
       "      <td>건조</td>\n",
       "      <td>맑음</td>\n",
       "      <td>단일로</td>\n",
       "      <td>승용</td>\n",
       "      <td>남</td>\n",
       "      <td>63.0</td>\n",
       "      <td>보행자</td>\n",
       "      <td>여</td>\n",
       "      <td>29.0</td>\n",
       "      <td>겨울</td>\n",
       "      <td>새벽</td>\n",
       "      <td>강남구</td>\n",
       "      <td>도곡동</td>\n",
       "    </tr>\n",
       "    <tr>\n",
       "      <th>1</th>\n",
       "      <td>수요일</td>\n",
       "      <td>차대차</td>\n",
       "      <td>안전운전불이행</td>\n",
       "      <td>건조</td>\n",
       "      <td>맑음</td>\n",
       "      <td>단일로</td>\n",
       "      <td>승용</td>\n",
       "      <td>남</td>\n",
       "      <td>29.0</td>\n",
       "      <td>승용</td>\n",
       "      <td>남</td>\n",
       "      <td>41.0</td>\n",
       "      <td>겨울</td>\n",
       "      <td>오전</td>\n",
       "      <td>강남구</td>\n",
       "      <td>논현동</td>\n",
       "    </tr>\n",
       "    <tr>\n",
       "      <th>2</th>\n",
       "      <td>수요일</td>\n",
       "      <td>차대사람</td>\n",
       "      <td>큰 위반</td>\n",
       "      <td>건조</td>\n",
       "      <td>맑음</td>\n",
       "      <td>단일로</td>\n",
       "      <td>승용</td>\n",
       "      <td>남</td>\n",
       "      <td>44.0</td>\n",
       "      <td>보행자</td>\n",
       "      <td>남</td>\n",
       "      <td>42.0</td>\n",
       "      <td>겨울</td>\n",
       "      <td>오후</td>\n",
       "      <td>강남구</td>\n",
       "      <td>삼성동</td>\n",
       "    </tr>\n",
       "    <tr>\n",
       "      <th>3</th>\n",
       "      <td>수요일</td>\n",
       "      <td>차대차</td>\n",
       "      <td>작은 위반</td>\n",
       "      <td>건조</td>\n",
       "      <td>맑음</td>\n",
       "      <td>교차로</td>\n",
       "      <td>승용</td>\n",
       "      <td>여</td>\n",
       "      <td>47.0</td>\n",
       "      <td>승용</td>\n",
       "      <td>남</td>\n",
       "      <td>34.0</td>\n",
       "      <td>겨울</td>\n",
       "      <td>오후</td>\n",
       "      <td>강남구</td>\n",
       "      <td>역삼동</td>\n",
       "    </tr>\n",
       "    <tr>\n",
       "      <th>4</th>\n",
       "      <td>수요일</td>\n",
       "      <td>차대차</td>\n",
       "      <td>안전운전불이행</td>\n",
       "      <td>건조</td>\n",
       "      <td>맑음</td>\n",
       "      <td>단일로</td>\n",
       "      <td>승합</td>\n",
       "      <td>남</td>\n",
       "      <td>50.0</td>\n",
       "      <td>승합</td>\n",
       "      <td>남</td>\n",
       "      <td>51.0</td>\n",
       "      <td>겨울</td>\n",
       "      <td>밤</td>\n",
       "      <td>강남구</td>\n",
       "      <td>삼성동</td>\n",
       "    </tr>\n",
       "  </tbody>\n",
       "</table>\n",
       "</div>"
      ],
      "text/plain": [
       "    요일  사고유형     법규위반 노면상태 기상상태 도로형태 가해운전자 차종 가해운전자 성별  가해운전자 연령 피해운전자 차종  \\\n",
       "0  수요일  차대사람  안전운전불이행   건조   맑음  단일로       승용        남      63.0      보행자   \n",
       "1  수요일   차대차  안전운전불이행   건조   맑음  단일로       승용        남      29.0       승용   \n",
       "2  수요일  차대사람     큰 위반   건조   맑음  단일로       승용        남      44.0      보행자   \n",
       "3  수요일   차대차    작은 위반   건조   맑음  교차로       승용        여      47.0       승용   \n",
       "4  수요일   차대차  안전운전불이행   건조   맑음  단일로       승합        남      50.0       승합   \n",
       "\n",
       "  피해운전자 성별  피해운전자 연령  계절 시간대    구    동  \n",
       "0        여      29.0  겨울  새벽  강남구  도곡동  \n",
       "1        남      41.0  겨울  오전  강남구  논현동  \n",
       "2        남      42.0  겨울  오후  강남구  삼성동  \n",
       "3        남      34.0  겨울  오후  강남구  역삼동  \n",
       "4        남      51.0  겨울   밤  강남구  삼성동  "
      ]
     },
     "execution_count": 6,
     "metadata": {},
     "output_type": "execute_result"
    }
   ],
   "source": [
    "X = df.drop(['Unnamed: 0', '사고일시', '피해운전자 상해정도',], axis=1)\n",
    "y = df['피해운전자 상해정도']\n",
    "print(X.shape)\n",
    "print(y.shape)\n",
    "print(df['피해운전자 상해정도'].value_counts())\n",
    "X.head()"
   ]
  },
  {
   "cell_type": "markdown",
   "id": "8356d2f8",
   "metadata": {},
   "source": [
    "# 범주형 변수를 더미변수로 변환"
   ]
  },
  {
   "cell_type": "code",
   "execution_count": 7,
   "id": "8ef52276",
   "metadata": {},
   "outputs": [
    {
     "name": "stdout",
     "output_type": "stream",
     "text": [
      "(96847, 536)\n",
      "(96847,)\n"
     ]
    }
   ],
   "source": [
    "X = pd.get_dummies(X)\n",
    "print(X.shape)\n",
    "print(y.shape)"
   ]
  },
  {
   "cell_type": "code",
   "execution_count": 8,
   "id": "f3c84d7f",
   "metadata": {},
   "outputs": [
    {
     "data": {
      "text/html": [
       "<div>\n",
       "<style scoped>\n",
       "    .dataframe tbody tr th:only-of-type {\n",
       "        vertical-align: middle;\n",
       "    }\n",
       "\n",
       "    .dataframe tbody tr th {\n",
       "        vertical-align: top;\n",
       "    }\n",
       "\n",
       "    .dataframe thead th {\n",
       "        text-align: right;\n",
       "    }\n",
       "</style>\n",
       "<table border=\"1\" class=\"dataframe\">\n",
       "  <thead>\n",
       "    <tr style=\"text-align: right;\">\n",
       "      <th></th>\n",
       "      <th>가해운전자 연령</th>\n",
       "      <th>피해운전자 연령</th>\n",
       "      <th>요일_금요일</th>\n",
       "      <th>요일_목요일</th>\n",
       "      <th>요일_수요일</th>\n",
       "      <th>요일_월요일</th>\n",
       "      <th>요일_일요일</th>\n",
       "      <th>요일_토요일</th>\n",
       "      <th>요일_화요일</th>\n",
       "      <th>사고유형_차대사람</th>\n",
       "      <th>...</th>\n",
       "      <th>동_회현동1가</th>\n",
       "      <th>동_회현동2가</th>\n",
       "      <th>동_효자동</th>\n",
       "      <th>동_효제동</th>\n",
       "      <th>동_효창동</th>\n",
       "      <th>동_후암동</th>\n",
       "      <th>동_훈정동</th>\n",
       "      <th>동_휘경동</th>\n",
       "      <th>동_흑석동</th>\n",
       "      <th>동_흥인동</th>\n",
       "    </tr>\n",
       "  </thead>\n",
       "  <tbody>\n",
       "    <tr>\n",
       "      <th>0</th>\n",
       "      <td>63.0</td>\n",
       "      <td>29.0</td>\n",
       "      <td>False</td>\n",
       "      <td>False</td>\n",
       "      <td>True</td>\n",
       "      <td>False</td>\n",
       "      <td>False</td>\n",
       "      <td>False</td>\n",
       "      <td>False</td>\n",
       "      <td>True</td>\n",
       "      <td>...</td>\n",
       "      <td>False</td>\n",
       "      <td>False</td>\n",
       "      <td>False</td>\n",
       "      <td>False</td>\n",
       "      <td>False</td>\n",
       "      <td>False</td>\n",
       "      <td>False</td>\n",
       "      <td>False</td>\n",
       "      <td>False</td>\n",
       "      <td>False</td>\n",
       "    </tr>\n",
       "    <tr>\n",
       "      <th>1</th>\n",
       "      <td>29.0</td>\n",
       "      <td>41.0</td>\n",
       "      <td>False</td>\n",
       "      <td>False</td>\n",
       "      <td>True</td>\n",
       "      <td>False</td>\n",
       "      <td>False</td>\n",
       "      <td>False</td>\n",
       "      <td>False</td>\n",
       "      <td>False</td>\n",
       "      <td>...</td>\n",
       "      <td>False</td>\n",
       "      <td>False</td>\n",
       "      <td>False</td>\n",
       "      <td>False</td>\n",
       "      <td>False</td>\n",
       "      <td>False</td>\n",
       "      <td>False</td>\n",
       "      <td>False</td>\n",
       "      <td>False</td>\n",
       "      <td>False</td>\n",
       "    </tr>\n",
       "    <tr>\n",
       "      <th>2</th>\n",
       "      <td>44.0</td>\n",
       "      <td>42.0</td>\n",
       "      <td>False</td>\n",
       "      <td>False</td>\n",
       "      <td>True</td>\n",
       "      <td>False</td>\n",
       "      <td>False</td>\n",
       "      <td>False</td>\n",
       "      <td>False</td>\n",
       "      <td>True</td>\n",
       "      <td>...</td>\n",
       "      <td>False</td>\n",
       "      <td>False</td>\n",
       "      <td>False</td>\n",
       "      <td>False</td>\n",
       "      <td>False</td>\n",
       "      <td>False</td>\n",
       "      <td>False</td>\n",
       "      <td>False</td>\n",
       "      <td>False</td>\n",
       "      <td>False</td>\n",
       "    </tr>\n",
       "    <tr>\n",
       "      <th>3</th>\n",
       "      <td>47.0</td>\n",
       "      <td>34.0</td>\n",
       "      <td>False</td>\n",
       "      <td>False</td>\n",
       "      <td>True</td>\n",
       "      <td>False</td>\n",
       "      <td>False</td>\n",
       "      <td>False</td>\n",
       "      <td>False</td>\n",
       "      <td>False</td>\n",
       "      <td>...</td>\n",
       "      <td>False</td>\n",
       "      <td>False</td>\n",
       "      <td>False</td>\n",
       "      <td>False</td>\n",
       "      <td>False</td>\n",
       "      <td>False</td>\n",
       "      <td>False</td>\n",
       "      <td>False</td>\n",
       "      <td>False</td>\n",
       "      <td>False</td>\n",
       "    </tr>\n",
       "    <tr>\n",
       "      <th>4</th>\n",
       "      <td>50.0</td>\n",
       "      <td>51.0</td>\n",
       "      <td>False</td>\n",
       "      <td>False</td>\n",
       "      <td>True</td>\n",
       "      <td>False</td>\n",
       "      <td>False</td>\n",
       "      <td>False</td>\n",
       "      <td>False</td>\n",
       "      <td>False</td>\n",
       "      <td>...</td>\n",
       "      <td>False</td>\n",
       "      <td>False</td>\n",
       "      <td>False</td>\n",
       "      <td>False</td>\n",
       "      <td>False</td>\n",
       "      <td>False</td>\n",
       "      <td>False</td>\n",
       "      <td>False</td>\n",
       "      <td>False</td>\n",
       "      <td>False</td>\n",
       "    </tr>\n",
       "  </tbody>\n",
       "</table>\n",
       "<p>5 rows × 536 columns</p>\n",
       "</div>"
      ],
      "text/plain": [
       "   가해운전자 연령  피해운전자 연령  요일_금요일  요일_목요일  요일_수요일  요일_월요일  요일_일요일  요일_토요일  요일_화요일  \\\n",
       "0      63.0      29.0   False   False    True   False   False   False   False   \n",
       "1      29.0      41.0   False   False    True   False   False   False   False   \n",
       "2      44.0      42.0   False   False    True   False   False   False   False   \n",
       "3      47.0      34.0   False   False    True   False   False   False   False   \n",
       "4      50.0      51.0   False   False    True   False   False   False   False   \n",
       "\n",
       "   사고유형_차대사람  ...  동_회현동1가  동_회현동2가  동_효자동  동_효제동  동_효창동  동_후암동  동_훈정동  동_휘경동  \\\n",
       "0       True  ...    False    False  False  False  False  False  False  False   \n",
       "1      False  ...    False    False  False  False  False  False  False  False   \n",
       "2       True  ...    False    False  False  False  False  False  False  False   \n",
       "3      False  ...    False    False  False  False  False  False  False  False   \n",
       "4      False  ...    False    False  False  False  False  False  False  False   \n",
       "\n",
       "   동_흑석동  동_흥인동  \n",
       "0  False  False  \n",
       "1  False  False  \n",
       "2  False  False  \n",
       "3  False  False  \n",
       "4  False  False  \n",
       "\n",
       "[5 rows x 536 columns]"
      ]
     },
     "execution_count": 8,
     "metadata": {},
     "output_type": "execute_result"
    }
   ],
   "source": [
    "X.head()"
   ]
  },
  {
   "cell_type": "markdown",
   "id": "17e650f1",
   "metadata": {},
   "source": [
    "# EDA"
   ]
  },
  {
   "cell_type": "code",
   "execution_count": 9,
   "id": "53ec8642",
   "metadata": {},
   "outputs": [
    {
     "data": {
      "image/png": "[encoded data removed]",
      "text/plain": [
       "<Figure size 640x480 with 1 Axes>"
      ]
     },
     "metadata": {},
     "output_type": "display_data"
    }
   ],
   "source": [
    "sns.boxplot(data=df, y=\"법규위반\", x=\"가해운전자 연령\")\n",
    "plt.show()"
   ]
  },
  {
   "cell_type": "code",
   "execution_count": 10,
   "id": "8ebdc417",
   "metadata": {},
   "outputs": [
    {
     "name": "stderr",
     "output_type": "stream",
     "text": [
      "/var/folders/z9/b0_p9_w56d539_ntgw6cc_xw0000gn/T/ipykernel_39109/580042705.py:3: FutureWarning: \n",
      "\n",
      "Passing `palette` without assigning `hue` is deprecated and will be removed in v0.14.0. Assign the `x` variable to `hue` and set `legend=False` for the same effect.\n",
      "\n",
      "  sns.countplot(x='피해운전자 상해정도', data=df, palette='Set1')\n"
     ]
    },
    {
     "data": {
      "image/png": "[encoded data removed]",
      "text/plain": [
       "<Figure size 800x600 with 1 Axes>"
      ]
     },
     "metadata": {},
     "output_type": "display_data"
    }
   ],
   "source": [
    "# 전체적인 피해 상태 분포\n",
    "plt.figure(figsize=(8, 6))\n",
    "sns.countplot(x='피해운전자 상해정도', data=df, palette='Set1') \n",
    "plt.title('피해운전자 상해정도 분포')\n",
    "plt.show()"
   ]
  },
  {
   "cell_type": "code",
   "execution_count": 11,
   "id": "ecffc00c",
   "metadata": {},
   "outputs": [
    {
     "data": {
      "image/png": "[encoded data removed]",
      "text/plain": [
       "<Figure size 800x600 with 1 Axes>"
      ]
     },
     "metadata": {},
     "output_type": "display_data"
    }
   ],
   "source": [
    "# 사고유형별 피해 상태 분포\n",
    "plt.figure(figsize=(8, 6))\n",
    "sns.countplot(x='사고유형', hue='피해운전자 상해정도', data=df, palette='Set1') \n",
    "plt.title('사고유형별 피해운전자 상해정도')\n",
    "plt.xticks(rotation=45, ha='right')\n",
    "plt.show()"
   ]
  },
  {
   "cell_type": "code",
   "execution_count": 12,
   "id": "7b65f64a",
   "metadata": {},
   "outputs": [
    {
     "data": {
      "image/png": "[encoded data removed]",
      "text/plain": [
       "<Figure size 800x600 with 1 Axes>"
      ]
     },
     "metadata": {},
     "output_type": "display_data"
    }
   ],
   "source": [
    "# 법규위반에 따른 피해 상태 분포\n",
    "plt.figure(figsize=(8, 6))\n",
    "sns.countplot(x='법규위반', hue='피해운전자 상해정도', data=df, palette='Set1')  \n",
    "plt.title('법규위반에 따른 피해운전자 상해정도')\n",
    "plt.xticks(rotation=45, ha='right')\n",
    "plt.show()"
   ]
  },
  {
   "cell_type": "code",
   "execution_count": 13,
   "id": "bae1f34c",
   "metadata": {},
   "outputs": [
    {
     "name": "stderr",
     "output_type": "stream",
     "text": [
      "/var/folders/z9/b0_p9_w56d539_ntgw6cc_xw0000gn/T/ipykernel_39109/4170056181.py:3: FutureWarning: \n",
      "\n",
      "Passing `palette` without assigning `hue` is deprecated and will be removed in v0.14.0. Assign the `y` variable to `hue` and set `legend=False` for the same effect.\n",
      "\n",
      "  sns.boxplot(x='가해운전자 연령', y='법규위반', data=df, palette='Set1')\n"
     ]
    },
    {
     "data": {
      "image/png": "[encoded data removed]",
      "text/plain": [
       "<Figure size 800x600 with 1 Axes>"
      ]
     },
     "metadata": {},
     "output_type": "display_data"
    }
   ],
   "source": [
    "# 가해자 연령대별 위반 정도 박스플롯 시각화\n",
    "plt.figure(figsize=(8, 6))\n",
    "sns.boxplot(x='가해운전자 연령', y='법규위반', data=df, palette='Set1')\n",
    "plt.title('가해자 연령대별 위반 정도')\n",
    "plt.xlabel('가해자 연령')\n",
    "plt.ylabel('법규위반')\n",
    "plt.show()"
   ]
  },
  {
   "cell_type": "markdown",
   "id": "d34869a8",
   "metadata": {},
   "source": [
    "# Train Set 과 Test Set설정"
   ]
  },
  {
   "cell_type": "code",
   "execution_count": 14,
   "id": "a1602d00",
   "metadata": {},
   "outputs": [],
   "source": [
    "X_train, X_test, y_train, y_test = train_test_split(X, y, test_size=0.3, random_state=42)"
   ]
  },
  {
   "cell_type": "code",
   "execution_count": 15,
   "id": "0fb6435a",
   "metadata": {},
   "outputs": [
    {
     "name": "stdout",
     "output_type": "stream",
     "text": [
      "피해운전자 상해정도\n",
      "경상      46664\n",
      "중상      12869\n",
      "상해없음     8259\n",
      "Name: count, dtype: int64\n",
      "피해운전자 상해정도\n",
      "경상      20006\n",
      "중상       5451\n",
      "상해없음     3598\n",
      "Name: count, dtype: int64\n"
     ]
    }
   ],
   "source": [
    "# Train Set 갯수\n",
    "class_counts_train = y_train.value_counts()\n",
    "print(class_counts_train)\n",
    "\n",
    "# Test Set 갯수\n",
    "class_counts_test = y_test.value_counts()\n",
    "print(class_counts_test)"
   ]
  },
  {
   "cell_type": "markdown",
   "id": "37d391ae",
   "metadata": {},
   "source": [
    "# Train Set과 Test Set 설정 / UnderSampling 기존 비율 (1:1:1)"
   ]
  },
  {
   "cell_type": "code",
   "execution_count": 16,
   "id": "0d227328",
   "metadata": {},
   "outputs": [],
   "source": [
    "from imblearn.under_sampling import RandomUnderSampler\n",
    "from sklearn.model_selection import train_test_split\n",
    "from sklearn.ensemble import RandomForestClassifier\n",
    "from sklearn.metrics import accuracy_score\n",
    "\n",
    "\n",
    "rus = RandomUnderSampler(sampling_strategy={'상해없음': 11857, '중상': 11857, '경상': 11857}, random_state=42)\n",
    "X_resampled1, y_resampled1 = rus.fit_resample(X, y)"
   ]
  },
  {
   "cell_type": "code",
   "execution_count": 17,
   "id": "2cefa4c6",
   "metadata": {},
   "outputs": [
    {
     "name": "stdout",
     "output_type": "stream",
     "text": [
      "(35571, 536)\n"
     ]
    }
   ],
   "source": [
    "# 범주형 변수를 더미 변수로 변환\n",
    "X_resampled1 = pd.get_dummies(X_resampled1)\n",
    "print(X_resampled1.shape)"
   ]
  },
  {
   "cell_type": "code",
   "execution_count": 18,
   "id": "21e7a1b1",
   "metadata": {},
   "outputs": [],
   "source": [
    "# 훈련 데이터와 테스트 데이터 분할 및 가중치 부여\n",
    "X_resampled_train1, X_resampled_test1, y_resampled_train1, y_resampled_test1 = train_test_split(X_resampled1, y_resampled1, test_size=0.3, random_state=42)"
   ]
  },
  {
   "cell_type": "code",
   "execution_count": 19,
   "id": "3110e874",
   "metadata": {},
   "outputs": [
    {
     "name": "stdout",
     "output_type": "stream",
     "text": [
      "피해운전자 상해정도\n",
      "경상      8307\n",
      "상해없음    8305\n",
      "중상      8287\n",
      "Name: count, dtype: int64\n",
      "피해운전자 상해정도\n",
      "중상      3570\n",
      "상해없음    3552\n",
      "경상      3550\n",
      "Name: count, dtype: int64\n"
     ]
    }
   ],
   "source": [
    "# Train Set 갯수\n",
    "class_counts_train = y_resampled_train1.value_counts()\n",
    "print(class_counts_train)\n",
    "\n",
    "#Test Set 갯수\n",
    "class_counts_test = y_resampled_test1.value_counts()\n",
    "print(class_counts_test)"
   ]
  },
  {
   "cell_type": "markdown",
   "id": "601ffdeb",
   "metadata": {},
   "source": [
    "# Train Set과 Test Set 설정 / UnderSampling 수정 비율 (1:1:2)"
   ]
  },
  {
   "cell_type": "code",
   "execution_count": 20,
   "id": "dbb3a8ab",
   "metadata": {},
   "outputs": [],
   "source": [
    "rus = RandomUnderSampler(sampling_strategy={'상해없음': 11857, '중상': 11857, '경상': 23714}, random_state=42)\n",
    "X_resampled2, y_resampled2 = rus.fit_resample(X, y)"
   ]
  },
  {
   "cell_type": "code",
   "execution_count": 21,
   "id": "a54ca435",
   "metadata": {},
   "outputs": [
    {
     "name": "stdout",
     "output_type": "stream",
     "text": [
      "(47428, 536)\n"
     ]
    }
   ],
   "source": [
    "# 범주형 변수를 더미 변수로 변환\n",
    "X_resampled2 = pd.get_dummies(X_resampled2)\n",
    "print(X_resampled2.shape)"
   ]
  },
  {
   "cell_type": "code",
   "execution_count": 22,
   "id": "db3961e1",
   "metadata": {},
   "outputs": [],
   "source": [
    "# 훈련 데이터와 테스트 데이터 분할 및 가중치 부여\n",
    "X_resampled_train2, X_resampled_test2, y_resampled_train2, y_resampled_test2 = train_test_split(X_resampled2, y_resampled2, test_size=0.3, random_state=42)"
   ]
  },
  {
   "cell_type": "code",
   "execution_count": 23,
   "id": "a383d42c",
   "metadata": {},
   "outputs": [
    {
     "name": "stdout",
     "output_type": "stream",
     "text": [
      "피해운전자 상해정도\n",
      "경상      16576\n",
      "중상       8371\n",
      "상해없음     8252\n",
      "Name: count, dtype: int64\n",
      "피해운전자 상해정도\n",
      "경상      7138\n",
      "상해없음    3605\n",
      "중상      3486\n",
      "Name: count, dtype: int64\n"
     ]
    }
   ],
   "source": [
    "# Train Set 갯수\n",
    "class_counts_train = y_resampled_train2.value_counts()\n",
    "print(class_counts_train)\n",
    "\n",
    "#Test Set 갯수\n",
    "class_counts_test = y_resampled_test2.value_counts()\n",
    "print(class_counts_test)"
   ]
  },
  {
   "cell_type": "markdown",
   "id": "eb69196e",
   "metadata": {},
   "source": [
    "# DT / Not Undersampling"
   ]
  },
  {
   "cell_type": "markdown",
   "id": "6f5b4873",
   "metadata": {},
   "source": [
    "### 그리드서치"
   ]
  },
  {
   "cell_type": "code",
   "execution_count": 24,
   "id": "1ca32bb4",
   "metadata": {},
   "outputs": [],
   "source": [
    "from sklearn.model_selection import GridSearchCV\n",
    "\n",
    "# param_grid_DT ={\n",
    "#     'max_depth' : list(range(2,16)),\n",
    "#     'min_samples_leaf' : list(range(1,6)),\n",
    "#     'min_samples_split' : list(range(2,6)),\n",
    "#     'random_state' : [10]\n",
    "# }\n",
    "\n",
    "# model_DT = DecisionTreeClassifier()\n",
    "\n",
    "# grid_search_DT = GridSearchCV(model_DT, param_grid_DT, n_jobs=-1 ,cv=5, scoring='accuracy')\n",
    "# grid_search_DT.fit(X_train, y_train)\n",
    "\n",
    "# print(\"Best Hyperparameters:\", grid_search_DT.best_params_)"
   ]
  },
  {
   "cell_type": "markdown",
   "id": "c3a1c100",
   "metadata": {},
   "source": [
    "### DT"
   ]
  },
  {
   "cell_type": "code",
   "execution_count": 25,
   "id": "59b094f9",
   "metadata": {},
   "outputs": [
    {
     "data": {
      "text/html": [
       "<style>#sk-container-id-1 {color: black;}#sk-container-id-1 pre{padding: 0;}#sk-container-id-1 div.sk-toggleable {background-color: white;}#sk-container-id-1 label.sk-toggleable__label {cursor: pointer;display: block;width: 100%;margin-bottom: 0;padding: 0.3em;box-sizing: border-box;text-align: center;}#sk-container-id-1 label.sk-toggleable__label-arrow:before {content: \"▸\";float: left;margin-right: 0.25em;color: #696969;}#sk-container-id-1 label.sk-toggleable__label-arrow:hover:before {color: black;}#sk-container-id-1 div.sk-estimator:hover label.sk-toggleable__label-arrow:before {color: black;}#sk-container-id-1 div.sk-toggleable__content {max-height: 0;max-width: 0;overflow: hidden;text-align: left;background-color: #f0f8ff;}#sk-container-id-1 div.sk-toggleable__content pre {margin: 0.2em;color: black;border-radius: 0.25em;background-color: #f0f8ff;}#sk-container-id-1 input.sk-toggleable__control:checked~div.sk-toggleable__content {max-height: 200px;max-width: 100%;overflow: auto;}#sk-container-id-1 input.sk-toggleable__control:checked~label.sk-toggleable__label-arrow:before {content: \"▾\";}#sk-container-id-1 div.sk-estimator input.sk-toggleable__control:checked~label.sk-toggleable__label {background-color: #d4ebff;}#sk-container-id-1 div.sk-label input.sk-toggleable__control:checked~label.sk-toggleable__label {background-color: #d4ebff;}#sk-container-id-1 input.sk-hidden--visually {border: 0;clip: rect(1px 1px 1px 1px);clip: rect(1px, 1px, 1px, 1px);height: 1px;margin: -1px;overflow: hidden;padding: 0;position: absolute;width: 1px;}#sk-container-id-1 div.sk-estimator {font-family: monospace;background-color: #f0f8ff;border: 1px dotted black;border-radius: 0.25em;box-sizing: border-box;margin-bottom: 0.5em;}#sk-container-id-1 div.sk-estimator:hover {background-color: #d4ebff;}#sk-container-id-1 div.sk-parallel-item::after {content: \"\";width: 100%;border-bottom: 1px solid gray;flex-grow: 1;}#sk-container-id-1 div.sk-label:hover label.sk-toggleable__label {background-color: #d4ebff;}#sk-container-id-1 div.sk-serial::before {content: \"\";position: absolute;border-left: 1px solid gray;box-sizing: border-box;top: 0;bottom: 0;left: 50%;z-index: 0;}#sk-container-id-1 div.sk-serial {display: flex;flex-direction: column;align-items: center;background-color: white;padding-right: 0.2em;padding-left: 0.2em;position: relative;}#sk-container-id-1 div.sk-item {position: relative;z-index: 1;}#sk-container-id-1 div.sk-parallel {display: flex;align-items: stretch;justify-content: center;background-color: white;position: relative;}#sk-container-id-1 div.sk-item::before, #sk-container-id-1 div.sk-parallel-item::before {content: \"\";position: absolute;border-left: 1px solid gray;box-sizing: border-box;top: 0;bottom: 0;left: 50%;z-index: -1;}#sk-container-id-1 div.sk-parallel-item {display: flex;flex-direction: column;z-index: 1;position: relative;background-color: white;}#sk-container-id-1 div.sk-parallel-item:first-child::after {align-self: flex-end;width: 50%;}#sk-container-id-1 div.sk-parallel-item:last-child::after {align-self: flex-start;width: 50%;}#sk-container-id-1 div.sk-parallel-item:only-child::after {width: 0;}#sk-container-id-1 div.sk-dashed-wrapped {border: 1px dashed gray;margin: 0 0.4em 0.5em 0.4em;box-sizing: border-box;padding-bottom: 0.4em;background-color: white;}#sk-container-id-1 div.sk-label label {font-family: monospace;font-weight: bold;display: inline-block;line-height: 1.2em;}#sk-container-id-1 div.sk-label-container {text-align: center;}#sk-container-id-1 div.sk-container {/* jupyter's `normalize.less` sets `[hidden] { display: none; }` but bootstrap.min.css set `[hidden] { display: none !important; }` so we also need the `!important` here to be able to override the default hidden behavior on the sphinx rendered scikit-learn.org. See: https://github.com/scikit-learn/scikit-learn/issues/21755 */display: inline-block !important;position: relative;}#sk-container-id-1 div.sk-text-repr-fallback {display: none;}</style><div id=\"sk-container-id-1\" class=\"sk-top-container\"><div class=\"sk-text-repr-fallback\"><pre>DecisionTreeClassifier(max_depth=6, random_state=10)</pre><b>In a Jupyter environment, please rerun this cell to show the HTML representation or trust the notebook. <br />On GitHub, the HTML representation is unable to render, please try loading this page with nbviewer.org.</b></div><div class=\"sk-container\" hidden><div class=\"sk-item\"><div class=\"sk-estimator sk-toggleable\"><input class=\"sk-toggleable__control sk-hidden--visually\" id=\"sk-estimator-id-1\" type=\"checkbox\" checked><label for=\"sk-estimator-id-1\" class=\"sk-toggleable__label sk-toggleable__label-arrow\">DecisionTreeClassifier</label><div class=\"sk-toggleable__content\"><pre>DecisionTreeClassifier(max_depth=6, random_state=10)</pre></div></div></div></div></div>"
      ],
      "text/plain": [
       "DecisionTreeClassifier(max_depth=6, random_state=10)"
      ]
     },
     "execution_count": 25,
     "metadata": {},
     "output_type": "execute_result"
    }
   ],
   "source": [
    "tree1 = DecisionTreeClassifier(max_depth=6, min_samples_leaf=1, min_samples_split=2, random_state=10)\n",
    "tree1.fit(X_train, y_train)"
   ]
  },
  {
   "cell_type": "markdown",
   "id": "20906f1b",
   "metadata": {},
   "source": [
    "### 정확도"
   ]
  },
  {
   "cell_type": "code",
   "execution_count": 26,
   "id": "3a8e5f69",
   "metadata": {},
   "outputs": [
    {
     "name": "stdout",
     "output_type": "stream",
     "text": [
      "Training set의 정확도: 0.745\n",
      "Test set의 정확도: 0.743\n"
     ]
    }
   ],
   "source": [
    "print(\"Training set의 정확도: {:.3f}\".format(tree1.score(X_train, y_train)))\n",
    "print(\"Test set의 정확도: {:.3f}\".format(tree1.score(X_test, y_test)))"
   ]
  },
  {
   "cell_type": "code",
   "execution_count": 27,
   "id": "2c2ebd03",
   "metadata": {},
   "outputs": [
    {
     "name": "stdout",
     "output_type": "stream",
     "text": [
      "Decision Tree 클래스별 리포트:\n",
      "              precision    recall  f1-score   support\n",
      "\n",
      "          경상       0.76      0.91      0.83     20006\n",
      "        상해없음       0.71      0.60      0.65      3598\n",
      "          중상       0.56      0.20      0.30      5451\n",
      "\n",
      "    accuracy                           0.74     29055\n",
      "   macro avg       0.68      0.57      0.59     29055\n",
      "weighted avg       0.72      0.74      0.71     29055\n",
      "\n"
     ]
    }
   ],
   "source": [
    "from sklearn.metrics import classification_report\n",
    "\n",
    "y_pred_tree1 = tree1.predict(X_test)\n",
    "\n",
    "# 클래스별 정확도 및 리포트 출력\n",
    "class_accuracy_tree1 = classification_report(y_test, y_pred_tree1)\n",
    "print('Decision Tree 클래스별 리포트:')\n",
    "print(class_accuracy_tree1)"
   ]
  },
  {
   "cell_type": "markdown",
   "id": "8f27e6e5",
   "metadata": {},
   "source": [
    "### 특성중요도 / DT not undersamping"
   ]
  },
  {
   "cell_type": "code",
   "execution_count": 28,
   "id": "b9b1a48e",
   "metadata": {},
   "outputs": [
    {
     "name": "stdout",
     "output_type": "stream",
     "text": [
      "가해운전자 차종_자전거: 0.26069347755287914\n",
      "가해운전자 차종_이륜: 0.23362331030254901\n",
      "피해운전자 차종_승용: 0.16959915168407488\n",
      "피해운전자 차종_승합: 0.11296845602137814\n",
      "피해운전자 연령: 0.10105570162161813\n",
      "피해운전자 차종_화물: 0.055094518120274376\n",
      "법규위반_큰 위반: 0.025995335561776068\n",
      "가해운전자 차종_승용: 0.014245190583166261\n",
      "가해운전자 차종_화물: 0.0071844303760294865\n",
      "법규위반_작은 위반: 0.0037509607902735044\n"
     ]
    }
   ],
   "source": [
    "import matplotlib.pyplot as plt\n",
    "\n",
    "# 특성 중요도 얻기\n",
    "feature_importances_DT = tree1.feature_importances_\n",
    "\n",
    "# 특성 중요도를 특성 이름과 함께 매핑\n",
    "feature_importance_dict_DT = dict(zip(X.columns, feature_importances_DT))\n",
    "\n",
    "# 특성 중요도를 기준으로 내림차순 정렬\n",
    "sorted_feature_importance = sorted(feature_importance_dict_DT.items(), key=lambda x: x[1], reverse=True)\n",
    "\n",
    "count = 0\n",
    "for feature, importance in sorted_feature_importance:\n",
    "    print(f\"{feature}: {importance}\")\n",
    "    count += 1\n",
    "    if count == 10:\n",
    "        break"
   ]
  },
  {
   "cell_type": "markdown",
   "id": "72df7f02",
   "metadata": {},
   "source": [
    "# DT / Undersampling"
   ]
  },
  {
   "cell_type": "markdown",
   "id": "21920047",
   "metadata": {},
   "source": [
    "### 그리드 서치"
   ]
  },
  {
   "cell_type": "code",
   "execution_count": 29,
   "id": "e3e38bb0",
   "metadata": {},
   "outputs": [],
   "source": [
    "# grid_search_DT1 = GridSearchCV(model_DT, param_grid_DT, n_jobs=-1 ,cv=5, scoring='accuracy')\n",
    "# grid_search_DT1.fit(X_resampled_train1, y_resampled_train1)\n",
    "\n",
    "# print(\"Best Hyperparameters:\", grid_search_DT1.best_params_)"
   ]
  },
  {
   "cell_type": "markdown",
   "id": "9908df01",
   "metadata": {},
   "source": [
    "### DT"
   ]
  },
  {
   "cell_type": "code",
   "execution_count": 30,
   "id": "fa539348",
   "metadata": {},
   "outputs": [
    {
     "data": {
      "text/html": [
       "<style>#sk-container-id-2 {color: black;}#sk-container-id-2 pre{padding: 0;}#sk-container-id-2 div.sk-toggleable {background-color: white;}#sk-container-id-2 label.sk-toggleable__label {cursor: pointer;display: block;width: 100%;margin-bottom: 0;padding: 0.3em;box-sizing: border-box;text-align: center;}#sk-container-id-2 label.sk-toggleable__label-arrow:before {content: \"▸\";float: left;margin-right: 0.25em;color: #696969;}#sk-container-id-2 label.sk-toggleable__label-arrow:hover:before {color: black;}#sk-container-id-2 div.sk-estimator:hover label.sk-toggleable__label-arrow:before {color: black;}#sk-container-id-2 div.sk-toggleable__content {max-height: 0;max-width: 0;overflow: hidden;text-align: left;background-color: #f0f8ff;}#sk-container-id-2 div.sk-toggleable__content pre {margin: 0.2em;color: black;border-radius: 0.25em;background-color: #f0f8ff;}#sk-container-id-2 input.sk-toggleable__control:checked~div.sk-toggleable__content {max-height: 200px;max-width: 100%;overflow: auto;}#sk-container-id-2 input.sk-toggleable__control:checked~label.sk-toggleable__label-arrow:before {content: \"▾\";}#sk-container-id-2 div.sk-estimator input.sk-toggleable__control:checked~label.sk-toggleable__label {background-color: #d4ebff;}#sk-container-id-2 div.sk-label input.sk-toggleable__control:checked~label.sk-toggleable__label {background-color: #d4ebff;}#sk-container-id-2 input.sk-hidden--visually {border: 0;clip: rect(1px 1px 1px 1px);clip: rect(1px, 1px, 1px, 1px);height: 1px;margin: -1px;overflow: hidden;padding: 0;position: absolute;width: 1px;}#sk-container-id-2 div.sk-estimator {font-family: monospace;background-color: #f0f8ff;border: 1px dotted black;border-radius: 0.25em;box-sizing: border-box;margin-bottom: 0.5em;}#sk-container-id-2 div.sk-estimator:hover {background-color: #d4ebff;}#sk-container-id-2 div.sk-parallel-item::after {content: \"\";width: 100%;border-bottom: 1px solid gray;flex-grow: 1;}#sk-container-id-2 div.sk-label:hover label.sk-toggleable__label {background-color: #d4ebff;}#sk-container-id-2 div.sk-serial::before {content: \"\";position: absolute;border-left: 1px solid gray;box-sizing: border-box;top: 0;bottom: 0;left: 50%;z-index: 0;}#sk-container-id-2 div.sk-serial {display: flex;flex-direction: column;align-items: center;background-color: white;padding-right: 0.2em;padding-left: 0.2em;position: relative;}#sk-container-id-2 div.sk-item {position: relative;z-index: 1;}#sk-container-id-2 div.sk-parallel {display: flex;align-items: stretch;justify-content: center;background-color: white;position: relative;}#sk-container-id-2 div.sk-item::before, #sk-container-id-2 div.sk-parallel-item::before {content: \"\";position: absolute;border-left: 1px solid gray;box-sizing: border-box;top: 0;bottom: 0;left: 50%;z-index: -1;}#sk-container-id-2 div.sk-parallel-item {display: flex;flex-direction: column;z-index: 1;position: relative;background-color: white;}#sk-container-id-2 div.sk-parallel-item:first-child::after {align-self: flex-end;width: 50%;}#sk-container-id-2 div.sk-parallel-item:last-child::after {align-self: flex-start;width: 50%;}#sk-container-id-2 div.sk-parallel-item:only-child::after {width: 0;}#sk-container-id-2 div.sk-dashed-wrapped {border: 1px dashed gray;margin: 0 0.4em 0.5em 0.4em;box-sizing: border-box;padding-bottom: 0.4em;background-color: white;}#sk-container-id-2 div.sk-label label {font-family: monospace;font-weight: bold;display: inline-block;line-height: 1.2em;}#sk-container-id-2 div.sk-label-container {text-align: center;}#sk-container-id-2 div.sk-container {/* jupyter's `normalize.less` sets `[hidden] { display: none; }` but bootstrap.min.css set `[hidden] { display: none !important; }` so we also need the `!important` here to be able to override the default hidden behavior on the sphinx rendered scikit-learn.org. See: https://github.com/scikit-learn/scikit-learn/issues/21755 */display: inline-block !important;position: relative;}#sk-container-id-2 div.sk-text-repr-fallback {display: none;}</style><div id=\"sk-container-id-2\" class=\"sk-top-container\"><div class=\"sk-text-repr-fallback\"><pre>DecisionTreeClassifier(max_depth=7, min_samples_leaf=5, random_state=10)</pre><b>In a Jupyter environment, please rerun this cell to show the HTML representation or trust the notebook. <br />On GitHub, the HTML representation is unable to render, please try loading this page with nbviewer.org.</b></div><div class=\"sk-container\" hidden><div class=\"sk-item\"><div class=\"sk-estimator sk-toggleable\"><input class=\"sk-toggleable__control sk-hidden--visually\" id=\"sk-estimator-id-2\" type=\"checkbox\" checked><label for=\"sk-estimator-id-2\" class=\"sk-toggleable__label sk-toggleable__label-arrow\">DecisionTreeClassifier</label><div class=\"sk-toggleable__content\"><pre>DecisionTreeClassifier(max_depth=7, min_samples_leaf=5, random_state=10)</pre></div></div></div></div></div>"
      ],
      "text/plain": [
       "DecisionTreeClassifier(max_depth=7, min_samples_leaf=5, random_state=10)"
      ]
     },
     "execution_count": 30,
     "metadata": {},
     "output_type": "execute_result"
    }
   ],
   "source": [
    "tree2 = DecisionTreeClassifier(max_depth=7, min_samples_leaf=5, min_samples_split=2, random_state=10)\n",
    "tree2.fit(X_resampled_train1, y_resampled_train1)"
   ]
  },
  {
   "cell_type": "markdown",
   "id": "ce859915",
   "metadata": {},
   "source": [
    "### 정확도"
   ]
  },
  {
   "cell_type": "code",
   "execution_count": 31,
   "id": "af8d9281",
   "metadata": {},
   "outputs": [
    {
     "name": "stdout",
     "output_type": "stream",
     "text": [
      "Training set의 정확도: 0.689\n",
      "Test set의 정확도: 0.678\n"
     ]
    }
   ],
   "source": [
    "print(\"Training set의 정확도: {:.3f}\".format(tree2.score(X_resampled_train1, y_resampled_train1)))\n",
    "print(\"Test set의 정확도: {:.3f}\".format(tree2.score(X_resampled_test1, y_resampled_test1)))"
   ]
  },
  {
   "cell_type": "code",
   "execution_count": 32,
   "id": "3d786930",
   "metadata": {},
   "outputs": [
    {
     "name": "stdout",
     "output_type": "stream",
     "text": [
      "Decision Tree 클래스별 리포트:\n",
      "              precision    recall  f1-score   support\n",
      "\n",
      "          경상       0.54      0.61      0.57      3550\n",
      "        상해없음       0.88      0.71      0.79      3552\n",
      "          중상       0.66      0.71      0.69      3570\n",
      "\n",
      "    accuracy                           0.68     10672\n",
      "   macro avg       0.70      0.68      0.68     10672\n",
      "weighted avg       0.70      0.68      0.68     10672\n",
      "\n"
     ]
    }
   ],
   "source": [
    "y_pred_tree2 = tree2.predict(X_resampled_test1)\n",
    "\n",
    "# 클래스별 정확도 및 리포트 출력\n",
    "class_accuracy_tree2 = classification_report(y_resampled_test1, y_pred_tree2)\n",
    "print('Decision Tree 클래스별 리포트:')\n",
    "print(class_accuracy_tree2)"
   ]
  },
  {
   "cell_type": "markdown",
   "id": "bdd5e35a",
   "metadata": {},
   "source": [
    "### 특성중요도 / DT undersampling 1:1:1"
   ]
  },
  {
   "cell_type": "code",
   "execution_count": 33,
   "id": "8bae2f5c",
   "metadata": {},
   "outputs": [
    {
     "name": "stdout",
     "output_type": "stream",
     "text": [
      "가해운전자 차종_승용: 0.2078829447843267\n",
      "사고유형_차대차: 0.20760831668416643\n",
      "피해운전자 차종_이륜: 0.17732524114563997\n",
      "가해운전자 차종_화물: 0.08880750548562881\n",
      "피해운전자 차종_승합: 0.06845076980994774\n",
      "피해운전자 차종_자전거: 0.06717052844418443\n",
      "피해운전자 연령: 0.06440590282371308\n",
      "가해운전자 차종_승합: 0.034420933260580565\n",
      "가해운전자 차종_특수: 0.01901728897512064\n",
      "가해운전자 차종_자전거: 0.014313434674915918\n"
     ]
    }
   ],
   "source": [
    "# 특성 중요도 얻기\n",
    "feature_importances_DT2 = tree2.feature_importances_\n",
    "\n",
    "# 특성 중요도를 특성 이름과 함께 매핑\n",
    "feature_importance_dict_DT2 = dict(zip(X.columns, feature_importances_DT2))\n",
    "\n",
    "# 특성 중요도를 기준으로 내림차순 정렬\n",
    "sorted_feature_importance = sorted(feature_importance_dict_DT2.items(), key=lambda x: x[1], reverse=True)\n",
    "\n",
    "count = 0\n",
    "for feature, importance in sorted_feature_importance:\n",
    "    print(f\"{feature}: {importance}\")\n",
    "    count += 1\n",
    "    if count == 10:\n",
    "        break"
   ]
  },
  {
   "cell_type": "markdown",
   "id": "39cef423",
   "metadata": {},
   "source": [
    "# DT / Under Sampling 수정비율"
   ]
  },
  {
   "cell_type": "markdown",
   "id": "5b1e6a1d",
   "metadata": {},
   "source": [
    "### 그리드 서치"
   ]
  },
  {
   "cell_type": "code",
   "execution_count": 34,
   "id": "71e378b7",
   "metadata": {},
   "outputs": [],
   "source": [
    "# grid_search_DT2 = GridSearchCV(model_DT, param_grid_DT, n_jobs=-1 ,cv=5, scoring='accuracy')\n",
    "# grid_search_DT2.fit(X_resampled_train2, y_resampled_train2)\n",
    "\n",
    "# print(\"Best Hyperparameters:\", grid_search_DT2.best_params_)"
   ]
  },
  {
   "cell_type": "markdown",
   "id": "6ec3a8b9",
   "metadata": {},
   "source": [
    "### DT"
   ]
  },
  {
   "cell_type": "code",
   "execution_count": 35,
   "id": "aecdbd8b",
   "metadata": {},
   "outputs": [
    {
     "data": {
      "text/html": [
       "<style>#sk-container-id-3 {color: black;}#sk-container-id-3 pre{padding: 0;}#sk-container-id-3 div.sk-toggleable {background-color: white;}#sk-container-id-3 label.sk-toggleable__label {cursor: pointer;display: block;width: 100%;margin-bottom: 0;padding: 0.3em;box-sizing: border-box;text-align: center;}#sk-container-id-3 label.sk-toggleable__label-arrow:before {content: \"▸\";float: left;margin-right: 0.25em;color: #696969;}#sk-container-id-3 label.sk-toggleable__label-arrow:hover:before {color: black;}#sk-container-id-3 div.sk-estimator:hover label.sk-toggleable__label-arrow:before {color: black;}#sk-container-id-3 div.sk-toggleable__content {max-height: 0;max-width: 0;overflow: hidden;text-align: left;background-color: #f0f8ff;}#sk-container-id-3 div.sk-toggleable__content pre {margin: 0.2em;color: black;border-radius: 0.25em;background-color: #f0f8ff;}#sk-container-id-3 input.sk-toggleable__control:checked~div.sk-toggleable__content {max-height: 200px;max-width: 100%;overflow: auto;}#sk-container-id-3 input.sk-toggleable__control:checked~label.sk-toggleable__label-arrow:before {content: \"▾\";}#sk-container-id-3 div.sk-estimator input.sk-toggleable__control:checked~label.sk-toggleable__label {background-color: #d4ebff;}#sk-container-id-3 div.sk-label input.sk-toggleable__control:checked~label.sk-toggleable__label {background-color: #d4ebff;}#sk-container-id-3 input.sk-hidden--visually {border: 0;clip: rect(1px 1px 1px 1px);clip: rect(1px, 1px, 1px, 1px);height: 1px;margin: -1px;overflow: hidden;padding: 0;position: absolute;width: 1px;}#sk-container-id-3 div.sk-estimator {font-family: monospace;background-color: #f0f8ff;border: 1px dotted black;border-radius: 0.25em;box-sizing: border-box;margin-bottom: 0.5em;}#sk-container-id-3 div.sk-estimator:hover {background-color: #d4ebff;}#sk-container-id-3 div.sk-parallel-item::after {content: \"\";width: 100%;border-bottom: 1px solid gray;flex-grow: 1;}#sk-container-id-3 div.sk-label:hover label.sk-toggleable__label {background-color: #d4ebff;}#sk-container-id-3 div.sk-serial::before {content: \"\";position: absolute;border-left: 1px solid gray;box-sizing: border-box;top: 0;bottom: 0;left: 50%;z-index: 0;}#sk-container-id-3 div.sk-serial {display: flex;flex-direction: column;align-items: center;background-color: white;padding-right: 0.2em;padding-left: 0.2em;position: relative;}#sk-container-id-3 div.sk-item {position: relative;z-index: 1;}#sk-container-id-3 div.sk-parallel {display: flex;align-items: stretch;justify-content: center;background-color: white;position: relative;}#sk-container-id-3 div.sk-item::before, #sk-container-id-3 div.sk-parallel-item::before {content: \"\";position: absolute;border-left: 1px solid gray;box-sizing: border-box;top: 0;bottom: 0;left: 50%;z-index: -1;}#sk-container-id-3 div.sk-parallel-item {display: flex;flex-direction: column;z-index: 1;position: relative;background-color: white;}#sk-container-id-3 div.sk-parallel-item:first-child::after {align-self: flex-end;width: 50%;}#sk-container-id-3 div.sk-parallel-item:last-child::after {align-self: flex-start;width: 50%;}#sk-container-id-3 div.sk-parallel-item:only-child::after {width: 0;}#sk-container-id-3 div.sk-dashed-wrapped {border: 1px dashed gray;margin: 0 0.4em 0.5em 0.4em;box-sizing: border-box;padding-bottom: 0.4em;background-color: white;}#sk-container-id-3 div.sk-label label {font-family: monospace;font-weight: bold;display: inline-block;line-height: 1.2em;}#sk-container-id-3 div.sk-label-container {text-align: center;}#sk-container-id-3 div.sk-container {/* jupyter's `normalize.less` sets `[hidden] { display: none; }` but bootstrap.min.css set `[hidden] { display: none !important; }` so we also need the `!important` here to be able to override the default hidden behavior on the sphinx rendered scikit-learn.org. See: https://github.com/scikit-learn/scikit-learn/issues/21755 */display: inline-block !important;position: relative;}#sk-container-id-3 div.sk-text-repr-fallback {display: none;}</style><div id=\"sk-container-id-3\" class=\"sk-top-container\"><div class=\"sk-text-repr-fallback\"><pre>DecisionTreeClassifier(max_depth=7, min_samples_split=4, random_state=10)</pre><b>In a Jupyter environment, please rerun this cell to show the HTML representation or trust the notebook. <br />On GitHub, the HTML representation is unable to render, please try loading this page with nbviewer.org.</b></div><div class=\"sk-container\" hidden><div class=\"sk-item\"><div class=\"sk-estimator sk-toggleable\"><input class=\"sk-toggleable__control sk-hidden--visually\" id=\"sk-estimator-id-3\" type=\"checkbox\" checked><label for=\"sk-estimator-id-3\" class=\"sk-toggleable__label sk-toggleable__label-arrow\">DecisionTreeClassifier</label><div class=\"sk-toggleable__content\"><pre>DecisionTreeClassifier(max_depth=7, min_samples_split=4, random_state=10)</pre></div></div></div></div></div>"
      ],
      "text/plain": [
       "DecisionTreeClassifier(max_depth=7, min_samples_split=4, random_state=10)"
      ]
     },
     "execution_count": 35,
     "metadata": {},
     "output_type": "execute_result"
    }
   ],
   "source": [
    "tree3 = DecisionTreeClassifier(max_depth=7, min_samples_leaf=1, min_samples_split=4, random_state=10)\n",
    "tree3.fit(X_resampled_train2, y_resampled_train2)"
   ]
  },
  {
   "cell_type": "markdown",
   "id": "1a8fd851",
   "metadata": {},
   "source": [
    "### 정확도"
   ]
  },
  {
   "cell_type": "code",
   "execution_count": 36,
   "id": "50f23993",
   "metadata": {
    "scrolled": true
   },
   "outputs": [
    {
     "name": "stdout",
     "output_type": "stream",
     "text": [
      "Training set의 정확도: 0.693\n",
      "Test set의 정확도: 0.682\n"
     ]
    }
   ],
   "source": [
    "print(\"Training set의 정확도: {:.3f}\".format(tree3.score(X_resampled_train2, y_resampled_train2)))\n",
    "print(\"Test set의 정확도: {:.3f}\".format(tree3.score(X_resampled_test2, y_resampled_test2)))"
   ]
  },
  {
   "cell_type": "code",
   "execution_count": 37,
   "id": "ccc34e1b",
   "metadata": {},
   "outputs": [
    {
     "name": "stdout",
     "output_type": "stream",
     "text": [
      "Decision Tree 클래스별 리포트:\n",
      "              precision    recall  f1-score   support\n",
      "\n",
      "          경상       0.67      0.78      0.72      7138\n",
      "        상해없음       0.80      0.71      0.75      3605\n",
      "          중상       0.59      0.46      0.51      3486\n",
      "\n",
      "    accuracy                           0.68     14229\n",
      "   macro avg       0.69      0.65      0.66     14229\n",
      "weighted avg       0.68      0.68      0.68     14229\n",
      "\n"
     ]
    }
   ],
   "source": [
    "y_pred_tree3 = tree3.predict(X_resampled_test2)\n",
    "\n",
    "# 클래스별 정확도 및 리포트 출력\n",
    "class_accuracy_tree3 = classification_report(y_resampled_test2, y_pred_tree3)\n",
    "print('Decision Tree 클래스별 리포트:')\n",
    "print(class_accuracy_tree3)"
   ]
  },
  {
   "cell_type": "markdown",
   "id": "b6375008",
   "metadata": {},
   "source": [
    "### 특성중요도 / DT undersampling 1:1:2"
   ]
  },
  {
   "cell_type": "code",
   "execution_count": 38,
   "id": "8b4b28e3",
   "metadata": {},
   "outputs": [
    {
     "name": "stdout",
     "output_type": "stream",
     "text": [
      "가해운전자 차종_승용: 0.2078829447843267\n",
      "사고유형_차대차: 0.20760831668416643\n",
      "피해운전자 차종_이륜: 0.17732524114563997\n",
      "가해운전자 차종_화물: 0.08880750548562881\n",
      "피해운전자 차종_승합: 0.06845076980994774\n",
      "피해운전자 차종_자전거: 0.06717052844418443\n",
      "피해운전자 연령: 0.06440590282371308\n",
      "가해운전자 차종_승합: 0.034420933260580565\n",
      "가해운전자 차종_특수: 0.01901728897512064\n",
      "가해운전자 차종_자전거: 0.014313434674915918\n"
     ]
    }
   ],
   "source": [
    "# 특성 중요도 얻기\n",
    "feature_importances_DT3 = tree3.feature_importances_\n",
    "\n",
    "# 특성 중요도를 특성 이름과 함께 매핑\n",
    "feature_importance_dict_DT3 = dict(zip(X.columns, feature_importances_DT3))\n",
    "\n",
    "# 특성 중요도를 기준으로 내림차순 정렬\n",
    "sorted_feature_importance = sorted(feature_importance_dict_DT2.items(), key=lambda x: x[1], reverse=True)\n",
    "\n",
    "count = 0\n",
    "for feature, importance in sorted_feature_importance:\n",
    "    print(f\"{feature}: {importance}\")\n",
    "    count += 1\n",
    "    if count == 10:\n",
    "        break"
   ]
  },
  {
   "cell_type": "markdown",
   "id": "f1e4dd38",
   "metadata": {},
   "source": [
    "# Random Forest"
   ]
  },
  {
   "cell_type": "markdown",
   "id": "570afec3",
   "metadata": {},
   "source": [
    "### Random Forest"
   ]
  },
  {
   "cell_type": "code",
   "execution_count": 39,
   "id": "10431707",
   "metadata": {},
   "outputs": [
    {
     "data": {
      "text/html": [
       "<style>#sk-container-id-4 {color: black;}#sk-container-id-4 pre{padding: 0;}#sk-container-id-4 div.sk-toggleable {background-color: white;}#sk-container-id-4 label.sk-toggleable__label {cursor: pointer;display: block;width: 100%;margin-bottom: 0;padding: 0.3em;box-sizing: border-box;text-align: center;}#sk-container-id-4 label.sk-toggleable__label-arrow:before {content: \"▸\";float: left;margin-right: 0.25em;color: #696969;}#sk-container-id-4 label.sk-toggleable__label-arrow:hover:before {color: black;}#sk-container-id-4 div.sk-estimator:hover label.sk-toggleable__label-arrow:before {color: black;}#sk-container-id-4 div.sk-toggleable__content {max-height: 0;max-width: 0;overflow: hidden;text-align: left;background-color: #f0f8ff;}#sk-container-id-4 div.sk-toggleable__content pre {margin: 0.2em;color: black;border-radius: 0.25em;background-color: #f0f8ff;}#sk-container-id-4 input.sk-toggleable__control:checked~div.sk-toggleable__content {max-height: 200px;max-width: 100%;overflow: auto;}#sk-container-id-4 input.sk-toggleable__control:checked~label.sk-toggleable__label-arrow:before {content: \"▾\";}#sk-container-id-4 div.sk-estimator input.sk-toggleable__control:checked~label.sk-toggleable__label {background-color: #d4ebff;}#sk-container-id-4 div.sk-label input.sk-toggleable__control:checked~label.sk-toggleable__label {background-color: #d4ebff;}#sk-container-id-4 input.sk-hidden--visually {border: 0;clip: rect(1px 1px 1px 1px);clip: rect(1px, 1px, 1px, 1px);height: 1px;margin: -1px;overflow: hidden;padding: 0;position: absolute;width: 1px;}#sk-container-id-4 div.sk-estimator {font-family: monospace;background-color: #f0f8ff;border: 1px dotted black;border-radius: 0.25em;box-sizing: border-box;margin-bottom: 0.5em;}#sk-container-id-4 div.sk-estimator:hover {background-color: #d4ebff;}#sk-container-id-4 div.sk-parallel-item::after {content: \"\";width: 100%;border-bottom: 1px solid gray;flex-grow: 1;}#sk-container-id-4 div.sk-label:hover label.sk-toggleable__label {background-color: #d4ebff;}#sk-container-id-4 div.sk-serial::before {content: \"\";position: absolute;border-left: 1px solid gray;box-sizing: border-box;top: 0;bottom: 0;left: 50%;z-index: 0;}#sk-container-id-4 div.sk-serial {display: flex;flex-direction: column;align-items: center;background-color: white;padding-right: 0.2em;padding-left: 0.2em;position: relative;}#sk-container-id-4 div.sk-item {position: relative;z-index: 1;}#sk-container-id-4 div.sk-parallel {display: flex;align-items: stretch;justify-content: center;background-color: white;position: relative;}#sk-container-id-4 div.sk-item::before, #sk-container-id-4 div.sk-parallel-item::before {content: \"\";position: absolute;border-left: 1px solid gray;box-sizing: border-box;top: 0;bottom: 0;left: 50%;z-index: -1;}#sk-container-id-4 div.sk-parallel-item {display: flex;flex-direction: column;z-index: 1;position: relative;background-color: white;}#sk-container-id-4 div.sk-parallel-item:first-child::after {align-self: flex-end;width: 50%;}#sk-container-id-4 div.sk-parallel-item:last-child::after {align-self: flex-start;width: 50%;}#sk-container-id-4 div.sk-parallel-item:only-child::after {width: 0;}#sk-container-id-4 div.sk-dashed-wrapped {border: 1px dashed gray;margin: 0 0.4em 0.5em 0.4em;box-sizing: border-box;padding-bottom: 0.4em;background-color: white;}#sk-container-id-4 div.sk-label label {font-family: monospace;font-weight: bold;display: inline-block;line-height: 1.2em;}#sk-container-id-4 div.sk-label-container {text-align: center;}#sk-container-id-4 div.sk-container {/* jupyter's `normalize.less` sets `[hidden] { display: none; }` but bootstrap.min.css set `[hidden] { display: none !important; }` so we also need the `!important` here to be able to override the default hidden behavior on the sphinx rendered scikit-learn.org. See: https://github.com/scikit-learn/scikit-learn/issues/21755 */display: inline-block !important;position: relative;}#sk-container-id-4 div.sk-text-repr-fallback {display: none;}</style><div id=\"sk-container-id-4\" class=\"sk-top-container\"><div class=\"sk-text-repr-fallback\"><pre>RandomForestClassifier(max_depth=50, min_samples_leaf=4, min_samples_split=30,\n",
       "                       n_estimators=150, random_state=42)</pre><b>In a Jupyter environment, please rerun this cell to show the HTML representation or trust the notebook. <br />On GitHub, the HTML representation is unable to render, please try loading this page with nbviewer.org.</b></div><div class=\"sk-container\" hidden><div class=\"sk-item\"><div class=\"sk-estimator sk-toggleable\"><input class=\"sk-toggleable__control sk-hidden--visually\" id=\"sk-estimator-id-4\" type=\"checkbox\" checked><label for=\"sk-estimator-id-4\" class=\"sk-toggleable__label sk-toggleable__label-arrow\">RandomForestClassifier</label><div class=\"sk-toggleable__content\"><pre>RandomForestClassifier(max_depth=50, min_samples_leaf=4, min_samples_split=30,\n",
       "                       n_estimators=150, random_state=42)</pre></div></div></div></div></div>"
      ],
      "text/plain": [
       "RandomForestClassifier(max_depth=50, min_samples_leaf=4, min_samples_split=30,\n",
       "                       n_estimators=150, random_state=42)"
      ]
     },
     "execution_count": 39,
     "metadata": {},
     "output_type": "execute_result"
    }
   ],
   "source": [
    "from sklearn.model_selection import train_test_split\n",
    "from sklearn.ensemble import RandomForestClassifier\n",
    "from sklearn.metrics import accuracy_score\n",
    "\n",
    "# 랜덤 포레스트 모델 구축\n",
    "rf_model1 = RandomForestClassifier(n_estimators=150, max_depth=50, min_samples_split=30, min_samples_leaf=4, random_state=42)\n",
    "rf_model1.fit(X_train, y_train)"
   ]
  },
  {
   "cell_type": "markdown",
   "id": "cf5b740e",
   "metadata": {},
   "source": [
    "### 정확도"
   ]
  },
  {
   "cell_type": "code",
   "execution_count": 40,
   "id": "5f34f07d",
   "metadata": {},
   "outputs": [
    {
     "name": "stdout",
     "output_type": "stream",
     "text": [
      "훈련 세트 정확도: 0.7661523483596885\n",
      "테스트 세트 정확도: 0.7446911030803648\n"
     ]
    }
   ],
   "source": [
    "# 훈련 세트 정확도 평가\n",
    "y_train_pred1 = rf_model1.predict(X_train)\n",
    "train_accuracy = accuracy_score(y_train, y_train_pred1)\n",
    "print(f\"훈련 세트 정확도: {train_accuracy}\")\n",
    "\n",
    "# 테스트 세트 정확도 평가\n",
    "y_test_pred1 = rf_model1.predict(X_test)\n",
    "test_accuracy = accuracy_score(y_test, y_test_pred1)\n",
    "print(f\"테스트 세트 정확도: {test_accuracy}\")"
   ]
  },
  {
   "cell_type": "code",
   "execution_count": 41,
   "id": "992606c1",
   "metadata": {},
   "outputs": [
    {
     "name": "stdout",
     "output_type": "stream",
     "text": [
      "Classification Report:\n",
      "               precision    recall  f1-score   support\n",
      "\n",
      "          경상       0.74      0.96      0.84     20006\n",
      "        상해없음       0.78      0.51      0.62      3598\n",
      "          중상       0.68      0.10      0.17      5451\n",
      "\n",
      "    accuracy                           0.74     29055\n",
      "   macro avg       0.74      0.52      0.54     29055\n",
      "weighted avg       0.74      0.74      0.69     29055\n",
      "\n"
     ]
    }
   ],
   "source": [
    "from sklearn.metrics import classification_report\n",
    "\n",
    "# 예측\n",
    "y_pred_rf1 = rf_model1.predict(X_test)\n",
    "\n",
    "# classification report 생성\n",
    "classification_rep1 = classification_report(y_test, y_pred_rf1)\n",
    "\n",
    "# 리포트 출력\n",
    "print(\"Classification Report:\\n\", classification_rep1)"
   ]
  },
  {
   "cell_type": "markdown",
   "id": "0fc3f6f2",
   "metadata": {},
   "source": [
    "### 특성중요도  / RF not undersampling"
   ]
  },
  {
   "cell_type": "code",
   "execution_count": 42,
   "id": "a657042c",
   "metadata": {},
   "outputs": [
    {
     "name": "stdout",
     "output_type": "stream",
     "text": [
      "가해운전자 차종_이륜: 0.10464035419920796\n",
      "가해운전자 차종_자전거: 0.09382332505439062\n",
      "피해운전자 연령: 0.0885144256497034\n",
      "피해운전자 차종_승용: 0.07616130203782394\n",
      "가해운전자 차종_승용: 0.07522943988523703\n",
      "피해운전자 차종_이륜: 0.051037672077750416\n",
      "피해운전자 차종_승합: 0.04430707314390203\n",
      "가해운전자 연령: 0.03616585781152749\n",
      "피해운전자 차종_보행자: 0.03174020709094868\n",
      "사고유형_차대사람: 0.028338638253981394\n"
     ]
    }
   ],
   "source": [
    "import matplotlib.pyplot as plt\n",
    "\n",
    "# 랜덤 포레스트 모델에서 특성 중요도 얻기\n",
    "feature_importances_rf1 = rf_model1.feature_importances_\n",
    "\n",
    "# 특성 중요도를 특성 이름과 함께 매핑\n",
    "feature_importance_dict_rf1 = dict(zip(X.columns, feature_importances_rf1))\n",
    "\n",
    "# 특성 중요도를 기준으로 내림차순 정렬\n",
    "sorted_feature_importance_rf = sorted(feature_importance_dict_rf1.items(), key=lambda x: x[1], reverse=True)\n",
    "\n",
    "count = 0\n",
    "for feature, importance in sorted_feature_importance_rf:\n",
    "    print(f\"{feature}: {importance}\")\n",
    "    count += 1\n",
    "    if count == 10:\n",
    "        break\n"
   ]
  },
  {
   "cell_type": "markdown",
   "id": "ac8b5461",
   "metadata": {},
   "source": [
    "# Random Forest / Undersampling"
   ]
  },
  {
   "cell_type": "markdown",
   "id": "4d47b6ac",
   "metadata": {},
   "source": [
    "### Random Forest"
   ]
  },
  {
   "cell_type": "code",
   "execution_count": 43,
   "id": "703908f9",
   "metadata": {},
   "outputs": [
    {
     "data": {
      "text/html": [
       "<style>#sk-container-id-5 {color: black;}#sk-container-id-5 pre{padding: 0;}#sk-container-id-5 div.sk-toggleable {background-color: white;}#sk-container-id-5 label.sk-toggleable__label {cursor: pointer;display: block;width: 100%;margin-bottom: 0;padding: 0.3em;box-sizing: border-box;text-align: center;}#sk-container-id-5 label.sk-toggleable__label-arrow:before {content: \"▸\";float: left;margin-right: 0.25em;color: #696969;}#sk-container-id-5 label.sk-toggleable__label-arrow:hover:before {color: black;}#sk-container-id-5 div.sk-estimator:hover label.sk-toggleable__label-arrow:before {color: black;}#sk-container-id-5 div.sk-toggleable__content {max-height: 0;max-width: 0;overflow: hidden;text-align: left;background-color: #f0f8ff;}#sk-container-id-5 div.sk-toggleable__content pre {margin: 0.2em;color: black;border-radius: 0.25em;background-color: #f0f8ff;}#sk-container-id-5 input.sk-toggleable__control:checked~div.sk-toggleable__content {max-height: 200px;max-width: 100%;overflow: auto;}#sk-container-id-5 input.sk-toggleable__control:checked~label.sk-toggleable__label-arrow:before {content: \"▾\";}#sk-container-id-5 div.sk-estimator input.sk-toggleable__control:checked~label.sk-toggleable__label {background-color: #d4ebff;}#sk-container-id-5 div.sk-label input.sk-toggleable__control:checked~label.sk-toggleable__label {background-color: #d4ebff;}#sk-container-id-5 input.sk-hidden--visually {border: 0;clip: rect(1px 1px 1px 1px);clip: rect(1px, 1px, 1px, 1px);height: 1px;margin: -1px;overflow: hidden;padding: 0;position: absolute;width: 1px;}#sk-container-id-5 div.sk-estimator {font-family: monospace;background-color: #f0f8ff;border: 1px dotted black;border-radius: 0.25em;box-sizing: border-box;margin-bottom: 0.5em;}#sk-container-id-5 div.sk-estimator:hover {background-color: #d4ebff;}#sk-container-id-5 div.sk-parallel-item::after {content: \"\";width: 100%;border-bottom: 1px solid gray;flex-grow: 1;}#sk-container-id-5 div.sk-label:hover label.sk-toggleable__label {background-color: #d4ebff;}#sk-container-id-5 div.sk-serial::before {content: \"\";position: absolute;border-left: 1px solid gray;box-sizing: border-box;top: 0;bottom: 0;left: 50%;z-index: 0;}#sk-container-id-5 div.sk-serial {display: flex;flex-direction: column;align-items: center;background-color: white;padding-right: 0.2em;padding-left: 0.2em;position: relative;}#sk-container-id-5 div.sk-item {position: relative;z-index: 1;}#sk-container-id-5 div.sk-parallel {display: flex;align-items: stretch;justify-content: center;background-color: white;position: relative;}#sk-container-id-5 div.sk-item::before, #sk-container-id-5 div.sk-parallel-item::before {content: \"\";position: absolute;border-left: 1px solid gray;box-sizing: border-box;top: 0;bottom: 0;left: 50%;z-index: -1;}#sk-container-id-5 div.sk-parallel-item {display: flex;flex-direction: column;z-index: 1;position: relative;background-color: white;}#sk-container-id-5 div.sk-parallel-item:first-child::after {align-self: flex-end;width: 50%;}#sk-container-id-5 div.sk-parallel-item:last-child::after {align-self: flex-start;width: 50%;}#sk-container-id-5 div.sk-parallel-item:only-child::after {width: 0;}#sk-container-id-5 div.sk-dashed-wrapped {border: 1px dashed gray;margin: 0 0.4em 0.5em 0.4em;box-sizing: border-box;padding-bottom: 0.4em;background-color: white;}#sk-container-id-5 div.sk-label label {font-family: monospace;font-weight: bold;display: inline-block;line-height: 1.2em;}#sk-container-id-5 div.sk-label-container {text-align: center;}#sk-container-id-5 div.sk-container {/* jupyter's `normalize.less` sets `[hidden] { display: none; }` but bootstrap.min.css set `[hidden] { display: none !important; }` so we also need the `!important` here to be able to override the default hidden behavior on the sphinx rendered scikit-learn.org. See: https://github.com/scikit-learn/scikit-learn/issues/21755 */display: inline-block !important;position: relative;}#sk-container-id-5 div.sk-text-repr-fallback {display: none;}</style><div id=\"sk-container-id-5\" class=\"sk-top-container\"><div class=\"sk-text-repr-fallback\"><pre>RandomForestClassifier(max_depth=50, min_samples_leaf=4, min_samples_split=30,\n",
       "                       n_estimators=150, random_state=42)</pre><b>In a Jupyter environment, please rerun this cell to show the HTML representation or trust the notebook. <br />On GitHub, the HTML representation is unable to render, please try loading this page with nbviewer.org.</b></div><div class=\"sk-container\" hidden><div class=\"sk-item\"><div class=\"sk-estimator sk-toggleable\"><input class=\"sk-toggleable__control sk-hidden--visually\" id=\"sk-estimator-id-5\" type=\"checkbox\" checked><label for=\"sk-estimator-id-5\" class=\"sk-toggleable__label sk-toggleable__label-arrow\">RandomForestClassifier</label><div class=\"sk-toggleable__content\"><pre>RandomForestClassifier(max_depth=50, min_samples_leaf=4, min_samples_split=30,\n",
       "                       n_estimators=150, random_state=42)</pre></div></div></div></div></div>"
      ],
      "text/plain": [
       "RandomForestClassifier(max_depth=50, min_samples_leaf=4, min_samples_split=30,\n",
       "                       n_estimators=150, random_state=42)"
      ]
     },
     "execution_count": 43,
     "metadata": {},
     "output_type": "execute_result"
    }
   ],
   "source": [
    "rf_model2 = RandomForestClassifier(n_estimators=150, max_depth=50, min_samples_split=30, min_samples_leaf=4, random_state=42)\n",
    "rf_model2.fit(X_resampled_train1, y_resampled_train1)"
   ]
  },
  {
   "cell_type": "code",
   "execution_count": 44,
   "id": "b2f2e03d",
   "metadata": {},
   "outputs": [
    {
     "name": "stdout",
     "output_type": "stream",
     "text": [
      "훈련 세트 정확도: 0.7153700951845455\n",
      "테스트 세트 정확도: 0.6806596701649176\n"
     ]
    }
   ],
   "source": [
    "# 훈련 세트 정확도 평가\n",
    "y_train_pred2 = rf_model2.predict(X_resampled_train1)\n",
    "train_accuracy2 = accuracy_score(y_resampled_train1, y_train_pred2)\n",
    "print(f\"훈련 세트 정확도: {train_accuracy2}\")\n",
    "\n",
    "# 테스트 세트 정확도 평가\n",
    "y_test_pred2 = rf_model2.predict(X_resampled_test1)\n",
    "test_accuracy2 = accuracy_score(y_resampled_test1, y_test_pred2)\n",
    "print(f\"테스트 세트 정확도: {test_accuracy2}\")"
   ]
  },
  {
   "cell_type": "code",
   "execution_count": 45,
   "id": "39daf7a5",
   "metadata": {},
   "outputs": [
    {
     "name": "stdout",
     "output_type": "stream",
     "text": [
      "Classification Report:\n",
      "               precision    recall  f1-score   support\n",
      "\n",
      "          경상       0.57      0.52      0.54      3550\n",
      "        상해없음       0.82      0.77      0.79      3552\n",
      "          중상       0.66      0.75      0.70      3570\n",
      "\n",
      "    accuracy                           0.68     10672\n",
      "   macro avg       0.68      0.68      0.68     10672\n",
      "weighted avg       0.68      0.68      0.68     10672\n",
      "\n"
     ]
    }
   ],
   "source": [
    "# 예측\n",
    "y_pred_rf2 = rf_model2.predict(X_resampled_test1)\n",
    "\n",
    "# classification report 생성\n",
    "classification_rep2 = classification_report(y_resampled_test1, y_pred_rf2)\n",
    "\n",
    "# 리포트 출력\n",
    "print(\"Classification Report:\\n\", classification_rep2)"
   ]
  },
  {
   "cell_type": "markdown",
   "id": "7034c2a8",
   "metadata": {},
   "source": [
    "### 특성 중요도 / RF undersampling 1:1:1"
   ]
  },
  {
   "cell_type": "code",
   "execution_count": 46,
   "id": "e4ae8673",
   "metadata": {},
   "outputs": [
    {
     "name": "stdout",
     "output_type": "stream",
     "text": [
      "가해운전자 차종_이륜: 0.09938966135256151\n",
      "가해운전자 차종_승용: 0.09505562822056128\n",
      "피해운전자 차종_이륜: 0.08636799777188124\n",
      "피해운전자 차종_승용: 0.07842436253449779\n",
      "가해운전자 차종_자전거: 0.06456746663039804\n",
      "피해운전자 차종_보행자: 0.0628370322109238\n",
      "피해운전자 차종_승합: 0.061356551862080964\n",
      "사고유형_차대사람: 0.05949332103020808\n",
      "피해운전자 연령: 0.05632144674944618\n",
      "사고유형_차대차: 0.05216637361032439\n"
     ]
    }
   ],
   "source": [
    "import matplotlib.pyplot as plt\n",
    "\n",
    "# 랜덤 포레스트 모델에서 특성 중요도 얻기\n",
    "feature_importances_rf2 = rf_model2.feature_importances_\n",
    "\n",
    "# 특성 중요도를 특성 이름과 함께 매핑\n",
    "feature_importance_dict_rf2 = dict(zip(X.columns, feature_importances_rf2))\n",
    "\n",
    "# 특성 중요도를 기준으로 내림차순 정렬\n",
    "sorted_feature_importance_rf2 = sorted(feature_importance_dict_rf2.items(), key=lambda x: x[1], reverse=True)\n",
    "\n",
    "count = 0\n",
    "for feature, importance in sorted_feature_importance_rf2:\n",
    "    print(f\"{feature}: {importance}\")\n",
    "    count += 1\n",
    "    if count == 10:\n",
    "        break\n"
   ]
  },
  {
   "cell_type": "markdown",
   "id": "56b074c2",
   "metadata": {},
   "source": [
    "# Random Forest / Undersampling 수정비율"
   ]
  },
  {
   "cell_type": "markdown",
   "id": "e99ab1a8",
   "metadata": {},
   "source": [
    "### Random Forest"
   ]
  },
  {
   "cell_type": "code",
   "execution_count": 47,
   "id": "d03e79dd",
   "metadata": {},
   "outputs": [
    {
     "data": {
      "text/html": [
       "<style>#sk-container-id-6 {color: black;}#sk-container-id-6 pre{padding: 0;}#sk-container-id-6 div.sk-toggleable {background-color: white;}#sk-container-id-6 label.sk-toggleable__label {cursor: pointer;display: block;width: 100%;margin-bottom: 0;padding: 0.3em;box-sizing: border-box;text-align: center;}#sk-container-id-6 label.sk-toggleable__label-arrow:before {content: \"▸\";float: left;margin-right: 0.25em;color: #696969;}#sk-container-id-6 label.sk-toggleable__label-arrow:hover:before {color: black;}#sk-container-id-6 div.sk-estimator:hover label.sk-toggleable__label-arrow:before {color: black;}#sk-container-id-6 div.sk-toggleable__content {max-height: 0;max-width: 0;overflow: hidden;text-align: left;background-color: #f0f8ff;}#sk-container-id-6 div.sk-toggleable__content pre {margin: 0.2em;color: black;border-radius: 0.25em;background-color: #f0f8ff;}#sk-container-id-6 input.sk-toggleable__control:checked~div.sk-toggleable__content {max-height: 200px;max-width: 100%;overflow: auto;}#sk-container-id-6 input.sk-toggleable__control:checked~label.sk-toggleable__label-arrow:before {content: \"▾\";}#sk-container-id-6 div.sk-estimator input.sk-toggleable__control:checked~label.sk-toggleable__label {background-color: #d4ebff;}#sk-container-id-6 div.sk-label input.sk-toggleable__control:checked~label.sk-toggleable__label {background-color: #d4ebff;}#sk-container-id-6 input.sk-hidden--visually {border: 0;clip: rect(1px 1px 1px 1px);clip: rect(1px, 1px, 1px, 1px);height: 1px;margin: -1px;overflow: hidden;padding: 0;position: absolute;width: 1px;}#sk-container-id-6 div.sk-estimator {font-family: monospace;background-color: #f0f8ff;border: 1px dotted black;border-radius: 0.25em;box-sizing: border-box;margin-bottom: 0.5em;}#sk-container-id-6 div.sk-estimator:hover {background-color: #d4ebff;}#sk-container-id-6 div.sk-parallel-item::after {content: \"\";width: 100%;border-bottom: 1px solid gray;flex-grow: 1;}#sk-container-id-6 div.sk-label:hover label.sk-toggleable__label {background-color: #d4ebff;}#sk-container-id-6 div.sk-serial::before {content: \"\";position: absolute;border-left: 1px solid gray;box-sizing: border-box;top: 0;bottom: 0;left: 50%;z-index: 0;}#sk-container-id-6 div.sk-serial {display: flex;flex-direction: column;align-items: center;background-color: white;padding-right: 0.2em;padding-left: 0.2em;position: relative;}#sk-container-id-6 div.sk-item {position: relative;z-index: 1;}#sk-container-id-6 div.sk-parallel {display: flex;align-items: stretch;justify-content: center;background-color: white;position: relative;}#sk-container-id-6 div.sk-item::before, #sk-container-id-6 div.sk-parallel-item::before {content: \"\";position: absolute;border-left: 1px solid gray;box-sizing: border-box;top: 0;bottom: 0;left: 50%;z-index: -1;}#sk-container-id-6 div.sk-parallel-item {display: flex;flex-direction: column;z-index: 1;position: relative;background-color: white;}#sk-container-id-6 div.sk-parallel-item:first-child::after {align-self: flex-end;width: 50%;}#sk-container-id-6 div.sk-parallel-item:last-child::after {align-self: flex-start;width: 50%;}#sk-container-id-6 div.sk-parallel-item:only-child::after {width: 0;}#sk-container-id-6 div.sk-dashed-wrapped {border: 1px dashed gray;margin: 0 0.4em 0.5em 0.4em;box-sizing: border-box;padding-bottom: 0.4em;background-color: white;}#sk-container-id-6 div.sk-label label {font-family: monospace;font-weight: bold;display: inline-block;line-height: 1.2em;}#sk-container-id-6 div.sk-label-container {text-align: center;}#sk-container-id-6 div.sk-container {/* jupyter's `normalize.less` sets `[hidden] { display: none; }` but bootstrap.min.css set `[hidden] { display: none !important; }` so we also need the `!important` here to be able to override the default hidden behavior on the sphinx rendered scikit-learn.org. See: https://github.com/scikit-learn/scikit-learn/issues/21755 */display: inline-block !important;position: relative;}#sk-container-id-6 div.sk-text-repr-fallback {display: none;}</style><div id=\"sk-container-id-6\" class=\"sk-top-container\"><div class=\"sk-text-repr-fallback\"><pre>RandomForestClassifier(max_depth=50, min_samples_leaf=4, min_samples_split=30,\n",
       "                       n_estimators=150, random_state=42)</pre><b>In a Jupyter environment, please rerun this cell to show the HTML representation or trust the notebook. <br />On GitHub, the HTML representation is unable to render, please try loading this page with nbviewer.org.</b></div><div class=\"sk-container\" hidden><div class=\"sk-item\"><div class=\"sk-estimator sk-toggleable\"><input class=\"sk-toggleable__control sk-hidden--visually\" id=\"sk-estimator-id-6\" type=\"checkbox\" checked><label for=\"sk-estimator-id-6\" class=\"sk-toggleable__label sk-toggleable__label-arrow\">RandomForestClassifier</label><div class=\"sk-toggleable__content\"><pre>RandomForestClassifier(max_depth=50, min_samples_leaf=4, min_samples_split=30,\n",
       "                       n_estimators=150, random_state=42)</pre></div></div></div></div></div>"
      ],
      "text/plain": [
       "RandomForestClassifier(max_depth=50, min_samples_leaf=4, min_samples_split=30,\n",
       "                       n_estimators=150, random_state=42)"
      ]
     },
     "execution_count": 47,
     "metadata": {},
     "output_type": "execute_result"
    }
   ],
   "source": [
    "rf_model3 = RandomForestClassifier(n_estimators=150, max_depth=50, min_samples_split=30, min_samples_leaf=4, random_state=42)\n",
    "rf_model3.fit(X_resampled_train2, y_resampled_train2)"
   ]
  },
  {
   "cell_type": "code",
   "execution_count": 48,
   "id": "fed1b55a",
   "metadata": {},
   "outputs": [
    {
     "name": "stdout",
     "output_type": "stream",
     "text": [
      "훈련 세트 정확도: 0.7267387571914816\n",
      "테스트 세트 정확도: 0.6882423220184131\n"
     ]
    }
   ],
   "source": [
    "# 훈련 세트 정확도 평가\n",
    "y_train_pred3 = rf_model3.predict(X_resampled_train2)\n",
    "train_accuracy3 = accuracy_score(y_resampled_train2, y_train_pred3)\n",
    "print(f\"훈련 세트 정확도: {train_accuracy3}\")\n",
    "\n",
    "# 테스트 세트 정확도 평가\n",
    "y_test_pred3 = rf_model3.predict(X_resampled_test2)\n",
    "test_accuracy3 = accuracy_score(y_resampled_test2, y_test_pred3)\n",
    "print(f\"테스트 세트 정확도: {test_accuracy3}\")"
   ]
  },
  {
   "cell_type": "code",
   "execution_count": 49,
   "id": "1741cbdd",
   "metadata": {},
   "outputs": [
    {
     "name": "stdout",
     "output_type": "stream",
     "text": [
      "Classification Report:\n",
      "               precision    recall  f1-score   support\n",
      "\n",
      "          경상       0.66      0.82      0.73      7138\n",
      "        상해없음       0.81      0.71      0.76      3605\n",
      "          중상       0.63      0.39      0.48      3486\n",
      "\n",
      "    accuracy                           0.69     14229\n",
      "   macro avg       0.70      0.64      0.66     14229\n",
      "weighted avg       0.69      0.69      0.68     14229\n",
      "\n"
     ]
    }
   ],
   "source": [
    "# 예측\n",
    "y_pred_rf3 = rf_model3.predict(X_resampled_test2)\n",
    "\n",
    "# classification report 생성\n",
    "classification_rep3 = classification_report(y_resampled_test2, y_pred_rf3)\n",
    "\n",
    "# 리포트 출력\n",
    "print(\"Classification Report:\\n\", classification_rep3)"
   ]
  },
  {
   "cell_type": "markdown",
   "id": "9ef17e46",
   "metadata": {},
   "source": [
    "### 특성중요도  / RF undersampling 1:1:2"
   ]
  },
  {
   "cell_type": "code",
   "execution_count": 50,
   "id": "1c1485a7",
   "metadata": {},
   "outputs": [
    {
     "name": "stdout",
     "output_type": "stream",
     "text": [
      "가해운전자 차종_이륜: 0.11919700782630327\n",
      "가해운전자 차종_승용: 0.10529811975072075\n",
      "가해운전자 차종_자전거: 0.08657657240916096\n",
      "피해운전자 연령: 0.07284158640484086\n",
      "피해운전자 차종_이륜: 0.06911031828810735\n",
      "피해운전자 차종_승용: 0.06553018422209105\n",
      "피해운전자 차종_승합: 0.052303628998820545\n",
      "피해운전자 차종_보행자: 0.045351432432030256\n",
      "사고유형_차대사람: 0.039611394828333917\n",
      "사고유형_차대차: 0.03910830877573927\n"
     ]
    }
   ],
   "source": [
    "import matplotlib.pyplot as plt\n",
    "\n",
    "# 랜덤 포레스트 모델에서 특성 중요도 얻기\n",
    "feature_importances_rf3 = rf_model3.feature_importances_\n",
    "\n",
    "# 특성 중요도를 특성 이름과 함께 매핑\n",
    "feature_importance_dict_rf3 = dict(zip(X.columns, feature_importances_rf3))\n",
    "\n",
    "# 특성 중요도를 기준으로 내림차순 정렬\n",
    "sorted_feature_importance_rf3 = sorted(feature_importance_dict_rf3.items(), key=lambda x: x[1], reverse=True)\n",
    "\n",
    "count = 0\n",
    "for feature, importance in sorted_feature_importance_rf3:\n",
    "    print(f\"{feature}: {importance}\")\n",
    "    count += 1\n",
    "    if count == 10:\n",
    "        break\n"
   ]
  },
  {
   "cell_type": "markdown",
   "id": "68f66ffb",
   "metadata": {},
   "source": [
    "# NB / Not undersampling"
   ]
  },
  {
   "cell_type": "code",
   "execution_count": 51,
   "id": "0d0cddd7",
   "metadata": {},
   "outputs": [],
   "source": [
    "from sklearn.naive_bayes import MultinomialNB"
   ]
  },
  {
   "cell_type": "markdown",
   "id": "1992f467",
   "metadata": {},
   "source": [
    "### 그리드 서치"
   ]
  },
  {
   "cell_type": "code",
   "execution_count": 52,
   "id": "5c7d8516",
   "metadata": {},
   "outputs": [
    {
     "name": "stdout",
     "output_type": "stream",
     "text": [
      "Best Hyperparameters: {'alpha': 10.0}\n"
     ]
    }
   ],
   "source": [
    "param_grid_NB = {'alpha': [0.1, 0.5, 1.0, 2.0, 5.0, 10.0]}\n",
    "\n",
    "model_NB = MultinomialNB()\n",
    "\n",
    "# 그리드서치 수행\n",
    "grid_search_NB1 = GridSearchCV(model_NB, param_grid_NB, cv=5, scoring='accuracy')\n",
    "grid_search_NB1.fit(X_train, y_train)\n",
    "\n",
    "print(\"Best Hyperparameters:\", grid_search_NB1.best_params_)"
   ]
  },
  {
   "cell_type": "markdown",
   "id": "9804020c",
   "metadata": {},
   "source": [
    "### NB"
   ]
  },
  {
   "cell_type": "code",
   "execution_count": 53,
   "id": "775a1f06",
   "metadata": {},
   "outputs": [
    {
     "data": {
      "text/html": [
       "<style>#sk-container-id-7 {color: black;}#sk-container-id-7 pre{padding: 0;}#sk-container-id-7 div.sk-toggleable {background-color: white;}#sk-container-id-7 label.sk-toggleable__label {cursor: pointer;display: block;width: 100%;margin-bottom: 0;padding: 0.3em;box-sizing: border-box;text-align: center;}#sk-container-id-7 label.sk-toggleable__label-arrow:before {content: \"▸\";float: left;margin-right: 0.25em;color: #696969;}#sk-container-id-7 label.sk-toggleable__label-arrow:hover:before {color: black;}#sk-container-id-7 div.sk-estimator:hover label.sk-toggleable__label-arrow:before {color: black;}#sk-container-id-7 div.sk-toggleable__content {max-height: 0;max-width: 0;overflow: hidden;text-align: left;background-color: #f0f8ff;}#sk-container-id-7 div.sk-toggleable__content pre {margin: 0.2em;color: black;border-radius: 0.25em;background-color: #f0f8ff;}#sk-container-id-7 input.sk-toggleable__control:checked~div.sk-toggleable__content {max-height: 200px;max-width: 100%;overflow: auto;}#sk-container-id-7 input.sk-toggleable__control:checked~label.sk-toggleable__label-arrow:before {content: \"▾\";}#sk-container-id-7 div.sk-estimator input.sk-toggleable__control:checked~label.sk-toggleable__label {background-color: #d4ebff;}#sk-container-id-7 div.sk-label input.sk-toggleable__control:checked~label.sk-toggleable__label {background-color: #d4ebff;}#sk-container-id-7 input.sk-hidden--visually {border: 0;clip: rect(1px 1px 1px 1px);clip: rect(1px, 1px, 1px, 1px);height: 1px;margin: -1px;overflow: hidden;padding: 0;position: absolute;width: 1px;}#sk-container-id-7 div.sk-estimator {font-family: monospace;background-color: #f0f8ff;border: 1px dotted black;border-radius: 0.25em;box-sizing: border-box;margin-bottom: 0.5em;}#sk-container-id-7 div.sk-estimator:hover {background-color: #d4ebff;}#sk-container-id-7 div.sk-parallel-item::after {content: \"\";width: 100%;border-bottom: 1px solid gray;flex-grow: 1;}#sk-container-id-7 div.sk-label:hover label.sk-toggleable__label {background-color: #d4ebff;}#sk-container-id-7 div.sk-serial::before {content: \"\";position: absolute;border-left: 1px solid gray;box-sizing: border-box;top: 0;bottom: 0;left: 50%;z-index: 0;}#sk-container-id-7 div.sk-serial {display: flex;flex-direction: column;align-items: center;background-color: white;padding-right: 0.2em;padding-left: 0.2em;position: relative;}#sk-container-id-7 div.sk-item {position: relative;z-index: 1;}#sk-container-id-7 div.sk-parallel {display: flex;align-items: stretch;justify-content: center;background-color: white;position: relative;}#sk-container-id-7 div.sk-item::before, #sk-container-id-7 div.sk-parallel-item::before {content: \"\";position: absolute;border-left: 1px solid gray;box-sizing: border-box;top: 0;bottom: 0;left: 50%;z-index: -1;}#sk-container-id-7 div.sk-parallel-item {display: flex;flex-direction: column;z-index: 1;position: relative;background-color: white;}#sk-container-id-7 div.sk-parallel-item:first-child::after {align-self: flex-end;width: 50%;}#sk-container-id-7 div.sk-parallel-item:last-child::after {align-self: flex-start;width: 50%;}#sk-container-id-7 div.sk-parallel-item:only-child::after {width: 0;}#sk-container-id-7 div.sk-dashed-wrapped {border: 1px dashed gray;margin: 0 0.4em 0.5em 0.4em;box-sizing: border-box;padding-bottom: 0.4em;background-color: white;}#sk-container-id-7 div.sk-label label {font-family: monospace;font-weight: bold;display: inline-block;line-height: 1.2em;}#sk-container-id-7 div.sk-label-container {text-align: center;}#sk-container-id-7 div.sk-container {/* jupyter's `normalize.less` sets `[hidden] { display: none; }` but bootstrap.min.css set `[hidden] { display: none !important; }` so we also need the `!important` here to be able to override the default hidden behavior on the sphinx rendered scikit-learn.org. See: https://github.com/scikit-learn/scikit-learn/issues/21755 */display: inline-block !important;position: relative;}#sk-container-id-7 div.sk-text-repr-fallback {display: none;}</style><div id=\"sk-container-id-7\" class=\"sk-top-container\"><div class=\"sk-text-repr-fallback\"><pre>MultinomialNB(alpha=10)</pre><b>In a Jupyter environment, please rerun this cell to show the HTML representation or trust the notebook. <br />On GitHub, the HTML representation is unable to render, please try loading this page with nbviewer.org.</b></div><div class=\"sk-container\" hidden><div class=\"sk-item\"><div class=\"sk-estimator sk-toggleable\"><input class=\"sk-toggleable__control sk-hidden--visually\" id=\"sk-estimator-id-7\" type=\"checkbox\" checked><label for=\"sk-estimator-id-7\" class=\"sk-toggleable__label sk-toggleable__label-arrow\">MultinomialNB</label><div class=\"sk-toggleable__content\"><pre>MultinomialNB(alpha=10)</pre></div></div></div></div></div>"
      ],
      "text/plain": [
       "MultinomialNB(alpha=10)"
      ]
     },
     "execution_count": 53,
     "metadata": {},
     "output_type": "execute_result"
    }
   ],
   "source": [
    "model_NB1 = MultinomialNB(alpha=10)\n",
    "model_NB1.fit(X_train, y_train)"
   ]
  },
  {
   "cell_type": "markdown",
   "id": "fc3043cc",
   "metadata": {},
   "source": [
    "### 정확도"
   ]
  },
  {
   "cell_type": "code",
   "execution_count": 54,
   "id": "fc41c541",
   "metadata": {},
   "outputs": [
    {
     "name": "stdout",
     "output_type": "stream",
     "text": [
      "Training set의 정확도: 0.668\n",
      "Test set의 정확도: 0.661\n"
     ]
    }
   ],
   "source": [
    "print(\"Training set의 정확도: {:.3f}\".format(model_NB1.score(X_train, y_train)))\n",
    "print(\"Test set의 정확도: {:.3f}\".format(model_NB1.score(X_test, y_test)))"
   ]
  },
  {
   "cell_type": "code",
   "execution_count": 55,
   "id": "a9675800",
   "metadata": {},
   "outputs": [
    {
     "name": "stdout",
     "output_type": "stream",
     "text": [
      "Classification Report:\n",
      "               precision    recall  f1-score   support\n",
      "\n",
      "          경상       0.76      0.76      0.76     20006\n",
      "        상해없음       0.42      0.54      0.47      3598\n",
      "          중상       0.45      0.37      0.40      5451\n",
      "\n",
      "    accuracy                           0.66     29055\n",
      "   macro avg       0.54      0.56      0.55     29055\n",
      "weighted avg       0.66      0.66      0.66     29055\n",
      "\n"
     ]
    }
   ],
   "source": [
    "# 예측\n",
    "y_pred_nb1 = model_NB1.predict(X_test)\n",
    "\n",
    "# classification report 생성\n",
    "classification_rep_nb1 = classification_report(y_test, y_pred_nb1)\n",
    "\n",
    "# 리포트 출력\n",
    "print(\"Classification Report:\\n\", classification_rep_nb1)"
   ]
  },
  {
   "cell_type": "markdown",
   "id": "31edddb5",
   "metadata": {},
   "source": [
    "## NB / Undersampling (1:1:1)"
   ]
  },
  {
   "cell_type": "markdown",
   "id": "d3b7a608",
   "metadata": {},
   "source": [
    "### 그리드 서치"
   ]
  },
  {
   "cell_type": "code",
   "execution_count": 56,
   "id": "9c1e7055",
   "metadata": {},
   "outputs": [
    {
     "name": "stdout",
     "output_type": "stream",
     "text": [
      "Best Hyperparameters: {'alpha': 10.0}\n"
     ]
    }
   ],
   "source": [
    "grid_search_NB2 = GridSearchCV(model_NB, param_grid_NB, cv=5, scoring='accuracy')\n",
    "grid_search_NB2.fit(X_resampled_train1, y_resampled_train1)\n",
    "\n",
    "print(\"Best Hyperparameters:\", grid_search_NB1.best_params_)"
   ]
  },
  {
   "cell_type": "markdown",
   "id": "8dd6ce0c",
   "metadata": {},
   "source": [
    "### NB"
   ]
  },
  {
   "cell_type": "code",
   "execution_count": 57,
   "id": "f80799a8",
   "metadata": {},
   "outputs": [
    {
     "data": {
      "text/html": [
       "<style>#sk-container-id-8 {color: black;}#sk-container-id-8 pre{padding: 0;}#sk-container-id-8 div.sk-toggleable {background-color: white;}#sk-container-id-8 label.sk-toggleable__label {cursor: pointer;display: block;width: 100%;margin-bottom: 0;padding: 0.3em;box-sizing: border-box;text-align: center;}#sk-container-id-8 label.sk-toggleable__label-arrow:before {content: \"▸\";float: left;margin-right: 0.25em;color: #696969;}#sk-container-id-8 label.sk-toggleable__label-arrow:hover:before {color: black;}#sk-container-id-8 div.sk-estimator:hover label.sk-toggleable__label-arrow:before {color: black;}#sk-container-id-8 div.sk-toggleable__content {max-height: 0;max-width: 0;overflow: hidden;text-align: left;background-color: #f0f8ff;}#sk-container-id-8 div.sk-toggleable__content pre {margin: 0.2em;color: black;border-radius: 0.25em;background-color: #f0f8ff;}#sk-container-id-8 input.sk-toggleable__control:checked~div.sk-toggleable__content {max-height: 200px;max-width: 100%;overflow: auto;}#sk-container-id-8 input.sk-toggleable__control:checked~label.sk-toggleable__label-arrow:before {content: \"▾\";}#sk-container-id-8 div.sk-estimator input.sk-toggleable__control:checked~label.sk-toggleable__label {background-color: #d4ebff;}#sk-container-id-8 div.sk-label input.sk-toggleable__control:checked~label.sk-toggleable__label {background-color: #d4ebff;}#sk-container-id-8 input.sk-hidden--visually {border: 0;clip: rect(1px 1px 1px 1px);clip: rect(1px, 1px, 1px, 1px);height: 1px;margin: -1px;overflow: hidden;padding: 0;position: absolute;width: 1px;}#sk-container-id-8 div.sk-estimator {font-family: monospace;background-color: #f0f8ff;border: 1px dotted black;border-radius: 0.25em;box-sizing: border-box;margin-bottom: 0.5em;}#sk-container-id-8 div.sk-estimator:hover {background-color: #d4ebff;}#sk-container-id-8 div.sk-parallel-item::after {content: \"\";width: 100%;border-bottom: 1px solid gray;flex-grow: 1;}#sk-container-id-8 div.sk-label:hover label.sk-toggleable__label {background-color: #d4ebff;}#sk-container-id-8 div.sk-serial::before {content: \"\";position: absolute;border-left: 1px solid gray;box-sizing: border-box;top: 0;bottom: 0;left: 50%;z-index: 0;}#sk-container-id-8 div.sk-serial {display: flex;flex-direction: column;align-items: center;background-color: white;padding-right: 0.2em;padding-left: 0.2em;position: relative;}#sk-container-id-8 div.sk-item {position: relative;z-index: 1;}#sk-container-id-8 div.sk-parallel {display: flex;align-items: stretch;justify-content: center;background-color: white;position: relative;}#sk-container-id-8 div.sk-item::before, #sk-container-id-8 div.sk-parallel-item::before {content: \"\";position: absolute;border-left: 1px solid gray;box-sizing: border-box;top: 0;bottom: 0;left: 50%;z-index: -1;}#sk-container-id-8 div.sk-parallel-item {display: flex;flex-direction: column;z-index: 1;position: relative;background-color: white;}#sk-container-id-8 div.sk-parallel-item:first-child::after {align-self: flex-end;width: 50%;}#sk-container-id-8 div.sk-parallel-item:last-child::after {align-self: flex-start;width: 50%;}#sk-container-id-8 div.sk-parallel-item:only-child::after {width: 0;}#sk-container-id-8 div.sk-dashed-wrapped {border: 1px dashed gray;margin: 0 0.4em 0.5em 0.4em;box-sizing: border-box;padding-bottom: 0.4em;background-color: white;}#sk-container-id-8 div.sk-label label {font-family: monospace;font-weight: bold;display: inline-block;line-height: 1.2em;}#sk-container-id-8 div.sk-label-container {text-align: center;}#sk-container-id-8 div.sk-container {/* jupyter's `normalize.less` sets `[hidden] { display: none; }` but bootstrap.min.css set `[hidden] { display: none !important; }` so we also need the `!important` here to be able to override the default hidden behavior on the sphinx rendered scikit-learn.org. See: https://github.com/scikit-learn/scikit-learn/issues/21755 */display: inline-block !important;position: relative;}#sk-container-id-8 div.sk-text-repr-fallback {display: none;}</style><div id=\"sk-container-id-8\" class=\"sk-top-container\"><div class=\"sk-text-repr-fallback\"><pre>MultinomialNB(alpha=10)</pre><b>In a Jupyter environment, please rerun this cell to show the HTML representation or trust the notebook. <br />On GitHub, the HTML representation is unable to render, please try loading this page with nbviewer.org.</b></div><div class=\"sk-container\" hidden><div class=\"sk-item\"><div class=\"sk-estimator sk-toggleable\"><input class=\"sk-toggleable__control sk-hidden--visually\" id=\"sk-estimator-id-8\" type=\"checkbox\" checked><label for=\"sk-estimator-id-8\" class=\"sk-toggleable__label sk-toggleable__label-arrow\">MultinomialNB</label><div class=\"sk-toggleable__content\"><pre>MultinomialNB(alpha=10)</pre></div></div></div></div></div>"
      ],
      "text/plain": [
       "MultinomialNB(alpha=10)"
      ]
     },
     "execution_count": 57,
     "metadata": {},
     "output_type": "execute_result"
    }
   ],
   "source": [
    "model_NB2 = MultinomialNB(alpha=10)\n",
    "model_NB2.fit(X_resampled_train1, y_resampled_train1)"
   ]
  },
  {
   "cell_type": "markdown",
   "id": "b328bd2c",
   "metadata": {},
   "source": [
    "### 정확도"
   ]
  },
  {
   "cell_type": "code",
   "execution_count": 58,
   "id": "72ae1598",
   "metadata": {},
   "outputs": [
    {
     "name": "stdout",
     "output_type": "stream",
     "text": [
      "Training set의 정확도: 0.610\n",
      "Test set의 정확도: 0.599\n"
     ]
    }
   ],
   "source": [
    "print(\"Training set의 정확도: {:.3f}\".format(model_NB2.score(X_resampled_train1, y_resampled_train1)))\n",
    "print(\"Test set의 정확도: {:.3f}\".format(model_NB2.score(X_resampled_test1,y_resampled_test1)))"
   ]
  },
  {
   "cell_type": "code",
   "execution_count": 59,
   "id": "36ed30d1",
   "metadata": {},
   "outputs": [
    {
     "name": "stdout",
     "output_type": "stream",
     "text": [
      "Classification Report:\n",
      "               precision    recall  f1-score   support\n",
      "\n",
      "          경상       0.48      0.54      0.51      3550\n",
      "        상해없음       0.66      0.75      0.70      3552\n",
      "          중상       0.69      0.51      0.59      3570\n",
      "\n",
      "    accuracy                           0.60     10672\n",
      "   macro avg       0.61      0.60      0.60     10672\n",
      "weighted avg       0.61      0.60      0.60     10672\n",
      "\n"
     ]
    }
   ],
   "source": [
    "# 예측\n",
    "y_pred_nb2 = model_NB2.predict(X_resampled_test1)\n",
    "\n",
    "# classification report 생성\n",
    "classification_rep_nb2 = classification_report(y_resampled_test1, y_pred_nb2)\n",
    "\n",
    "# 리포트 출력\n",
    "print(\"Classification Report:\\n\", classification_rep_nb2)"
   ]
  },
  {
   "cell_type": "markdown",
   "id": "dab1b33f",
   "metadata": {},
   "source": [
    "## NB / Undersampling 1:1:2"
   ]
  },
  {
   "cell_type": "markdown",
   "id": "4bc6c33a",
   "metadata": {},
   "source": [
    "### 그리드서치"
   ]
  },
  {
   "cell_type": "code",
   "execution_count": 60,
   "id": "fbf4b636",
   "metadata": {},
   "outputs": [
    {
     "name": "stdout",
     "output_type": "stream",
     "text": [
      "Best Hyperparameters: {'alpha': 10.0}\n"
     ]
    }
   ],
   "source": [
    "grid_search_NB3 = GridSearchCV(model_NB, param_grid_NB, cv=5, scoring='accuracy')\n",
    "grid_search_NB3.fit(X_resampled_train2, y_resampled_train2)\n",
    "\n",
    "print(\"Best Hyperparameters:\", grid_search_NB2.best_params_)"
   ]
  },
  {
   "cell_type": "markdown",
   "id": "5fc868b7",
   "metadata": {},
   "source": [
    "### NB"
   ]
  },
  {
   "cell_type": "code",
   "execution_count": 61,
   "id": "a04d397c",
   "metadata": {},
   "outputs": [
    {
     "data": {
      "text/html": [
       "<style>#sk-container-id-9 {color: black;}#sk-container-id-9 pre{padding: 0;}#sk-container-id-9 div.sk-toggleable {background-color: white;}#sk-container-id-9 label.sk-toggleable__label {cursor: pointer;display: block;width: 100%;margin-bottom: 0;padding: 0.3em;box-sizing: border-box;text-align: center;}#sk-container-id-9 label.sk-toggleable__label-arrow:before {content: \"▸\";float: left;margin-right: 0.25em;color: #696969;}#sk-container-id-9 label.sk-toggleable__label-arrow:hover:before {color: black;}#sk-container-id-9 div.sk-estimator:hover label.sk-toggleable__label-arrow:before {color: black;}#sk-container-id-9 div.sk-toggleable__content {max-height: 0;max-width: 0;overflow: hidden;text-align: left;background-color: #f0f8ff;}#sk-container-id-9 div.sk-toggleable__content pre {margin: 0.2em;color: black;border-radius: 0.25em;background-color: #f0f8ff;}#sk-container-id-9 input.sk-toggleable__control:checked~div.sk-toggleable__content {max-height: 200px;max-width: 100%;overflow: auto;}#sk-container-id-9 input.sk-toggleable__control:checked~label.sk-toggleable__label-arrow:before {content: \"▾\";}#sk-container-id-9 div.sk-estimator input.sk-toggleable__control:checked~label.sk-toggleable__label {background-color: #d4ebff;}#sk-container-id-9 div.sk-label input.sk-toggleable__control:checked~label.sk-toggleable__label {background-color: #d4ebff;}#sk-container-id-9 input.sk-hidden--visually {border: 0;clip: rect(1px 1px 1px 1px);clip: rect(1px, 1px, 1px, 1px);height: 1px;margin: -1px;overflow: hidden;padding: 0;position: absolute;width: 1px;}#sk-container-id-9 div.sk-estimator {font-family: monospace;background-color: #f0f8ff;border: 1px dotted black;border-radius: 0.25em;box-sizing: border-box;margin-bottom: 0.5em;}#sk-container-id-9 div.sk-estimator:hover {background-color: #d4ebff;}#sk-container-id-9 div.sk-parallel-item::after {content: \"\";width: 100%;border-bottom: 1px solid gray;flex-grow: 1;}#sk-container-id-9 div.sk-label:hover label.sk-toggleable__label {background-color: #d4ebff;}#sk-container-id-9 div.sk-serial::before {content: \"\";position: absolute;border-left: 1px solid gray;box-sizing: border-box;top: 0;bottom: 0;left: 50%;z-index: 0;}#sk-container-id-9 div.sk-serial {display: flex;flex-direction: column;align-items: center;background-color: white;padding-right: 0.2em;padding-left: 0.2em;position: relative;}#sk-container-id-9 div.sk-item {position: relative;z-index: 1;}#sk-container-id-9 div.sk-parallel {display: flex;align-items: stretch;justify-content: center;background-color: white;position: relative;}#sk-container-id-9 div.sk-item::before, #sk-container-id-9 div.sk-parallel-item::before {content: \"\";position: absolute;border-left: 1px solid gray;box-sizing: border-box;top: 0;bottom: 0;left: 50%;z-index: -1;}#sk-container-id-9 div.sk-parallel-item {display: flex;flex-direction: column;z-index: 1;position: relative;background-color: white;}#sk-container-id-9 div.sk-parallel-item:first-child::after {align-self: flex-end;width: 50%;}#sk-container-id-9 div.sk-parallel-item:last-child::after {align-self: flex-start;width: 50%;}#sk-container-id-9 div.sk-parallel-item:only-child::after {width: 0;}#sk-container-id-9 div.sk-dashed-wrapped {border: 1px dashed gray;margin: 0 0.4em 0.5em 0.4em;box-sizing: border-box;padding-bottom: 0.4em;background-color: white;}#sk-container-id-9 div.sk-label label {font-family: monospace;font-weight: bold;display: inline-block;line-height: 1.2em;}#sk-container-id-9 div.sk-label-container {text-align: center;}#sk-container-id-9 div.sk-container {/* jupyter's `normalize.less` sets `[hidden] { display: none; }` but bootstrap.min.css set `[hidden] { display: none !important; }` so we also need the `!important` here to be able to override the default hidden behavior on the sphinx rendered scikit-learn.org. See: https://github.com/scikit-learn/scikit-learn/issues/21755 */display: inline-block !important;position: relative;}#sk-container-id-9 div.sk-text-repr-fallback {display: none;}</style><div id=\"sk-container-id-9\" class=\"sk-top-container\"><div class=\"sk-text-repr-fallback\"><pre>MultinomialNB(alpha=10)</pre><b>In a Jupyter environment, please rerun this cell to show the HTML representation or trust the notebook. <br />On GitHub, the HTML representation is unable to render, please try loading this page with nbviewer.org.</b></div><div class=\"sk-container\" hidden><div class=\"sk-item\"><div class=\"sk-estimator sk-toggleable\"><input class=\"sk-toggleable__control sk-hidden--visually\" id=\"sk-estimator-id-9\" type=\"checkbox\" checked><label for=\"sk-estimator-id-9\" class=\"sk-toggleable__label sk-toggleable__label-arrow\">MultinomialNB</label><div class=\"sk-toggleable__content\"><pre>MultinomialNB(alpha=10)</pre></div></div></div></div></div>"
      ],
      "text/plain": [
       "MultinomialNB(alpha=10)"
      ]
     },
     "execution_count": 61,
     "metadata": {},
     "output_type": "execute_result"
    }
   ],
   "source": [
    "model_NB3 = MultinomialNB(alpha=10)\n",
    "model_NB3.fit(X_resampled_train2, y_resampled_train2)"
   ]
  },
  {
   "cell_type": "markdown",
   "id": "1941d1fe",
   "metadata": {},
   "source": [
    "### 정확도"
   ]
  },
  {
   "cell_type": "code",
   "execution_count": 62,
   "id": "23e61866",
   "metadata": {},
   "outputs": [
    {
     "name": "stdout",
     "output_type": "stream",
     "text": [
      "Training set의 정확도: 0.611\n",
      "Test set의 정확도: 0.609\n"
     ]
    }
   ],
   "source": [
    "print(\"Training set의 정확도: {:.3f}\".format(model_NB3.score(X_resampled_train2, y_resampled_train2)))\n",
    "print(\"Test set의 정확도: {:.3f}\".format(model_NB3.score(X_resampled_test2,y_resampled_test2)))"
   ]
  },
  {
   "cell_type": "code",
   "execution_count": 63,
   "id": "79ea01a3",
   "metadata": {},
   "outputs": [
    {
     "name": "stdout",
     "output_type": "stream",
     "text": [
      "Classification Report:\n",
      "               precision    recall  f1-score   support\n",
      "\n",
      "          경상       0.63      0.67      0.65      7138\n",
      "        상해없음       0.60      0.67      0.63      3605\n",
      "          중상       0.56      0.42      0.48      3486\n",
      "\n",
      "    accuracy                           0.61     14229\n",
      "   macro avg       0.60      0.59      0.59     14229\n",
      "weighted avg       0.61      0.61      0.60     14229\n",
      "\n"
     ]
    }
   ],
   "source": [
    "# 예측\n",
    "y_pred_nb3 = model_NB3.predict(X_resampled_test2)\n",
    "\n",
    "# classification report 생성\n",
    "classification_rep_nb3 = classification_report(y_resampled_test2, y_pred_nb3)\n",
    "\n",
    "# 리포트 출력\n",
    "print(\"Classification Report:\\n\", classification_rep_nb3)"
   ]
  },
  {
   "cell_type": "markdown",
   "id": "b6889db2",
   "metadata": {},
   "source": [
    "# XGBoost / Not undersampling"
   ]
  },
  {
   "cell_type": "code",
   "execution_count": 64,
   "id": "13057b57",
   "metadata": {},
   "outputs": [
    {
     "data": {
      "text/plain": [
       "0        2\n",
       "1        1\n",
       "2        1\n",
       "3        1\n",
       "4        1\n",
       "        ..\n",
       "96842    2\n",
       "96843    2\n",
       "96844    1\n",
       "96845    1\n",
       "96846    1\n",
       "Name: 피해운전자 상해정도, Length: 96847, dtype: int64"
      ]
     },
     "execution_count": 64,
     "metadata": {},
     "output_type": "execute_result"
    }
   ],
   "source": [
    "#XGBoost를 사용하기 위한 클래스 매핑\n",
    "class_mapping = {'상해없음': 0, '경상': 1, '중상': 2}\n",
    "y_mapping = y.map(class_mapping)\n",
    "y_mapping"
   ]
  },
  {
   "cell_type": "code",
   "execution_count": 65,
   "id": "816b05cb",
   "metadata": {},
   "outputs": [],
   "source": [
    "from xgboost import XGBClassifier"
   ]
  },
  {
   "cell_type": "markdown",
   "id": "4a26f3f2",
   "metadata": {},
   "source": [
    "### Train set 과 Test set 설정"
   ]
  },
  {
   "cell_type": "code",
   "execution_count": 66,
   "id": "64ffeede",
   "metadata": {},
   "outputs": [],
   "source": [
    "X_trainX, X_testX, y_trainX, y_testX = train_test_split(X, y_mapping, test_size=0.3, random_state=42)"
   ]
  },
  {
   "cell_type": "markdown",
   "id": "e1c182d9",
   "metadata": {},
   "source": [
    "### 그리드 서치"
   ]
  },
  {
   "cell_type": "code",
   "execution_count": 67,
   "id": "3bcf5eb5",
   "metadata": {},
   "outputs": [],
   "source": [
    "# model_XGB = XGBClassifier()\n",
    "\n",
    "# param_grid_XG = {\n",
    "#     'learning_rate': [0.01, 0.1, 0.2],\n",
    "#     'max_depth': [3, 4, 5],\n",
    "#     'min_child_weight':[1,3,5],\n",
    "#     'n_estimators': [50, 100, 200]\n",
    "# }\n",
    "\n",
    "# grid_search_XGB1 = GridSearchCV(model_XGB, param_grid_XG, cv=3, scoring='accuracy')\n",
    "# grid_search_XGB1.fit(X_trainX, y_trainX)\n",
    "\n",
    "# print(\"Best Hyperparameters:\", grid_search_XGB1.best_params_)"
   ]
  },
  {
   "cell_type": "markdown",
   "id": "3e5966fa",
   "metadata": {},
   "source": [
    "### XGBoost"
   ]
  },
  {
   "cell_type": "code",
   "execution_count": 68,
   "id": "e025b213",
   "metadata": {},
   "outputs": [
    {
     "data": {
      "text/html": [
       "<style>#sk-container-id-10 {color: black;}#sk-container-id-10 pre{padding: 0;}#sk-container-id-10 div.sk-toggleable {background-color: white;}#sk-container-id-10 label.sk-toggleable__label {cursor: pointer;display: block;width: 100%;margin-bottom: 0;padding: 0.3em;box-sizing: border-box;text-align: center;}#sk-container-id-10 label.sk-toggleable__label-arrow:before {content: \"▸\";float: left;margin-right: 0.25em;color: #696969;}#sk-container-id-10 label.sk-toggleable__label-arrow:hover:before {color: black;}#sk-container-id-10 div.sk-estimator:hover label.sk-toggleable__label-arrow:before {color: black;}#sk-container-id-10 div.sk-toggleable__content {max-height: 0;max-width: 0;overflow: hidden;text-align: left;background-color: #f0f8ff;}#sk-container-id-10 div.sk-toggleable__content pre {margin: 0.2em;color: black;border-radius: 0.25em;background-color: #f0f8ff;}#sk-container-id-10 input.sk-toggleable__control:checked~div.sk-toggleable__content {max-height: 200px;max-width: 100%;overflow: auto;}#sk-container-id-10 input.sk-toggleable__control:checked~label.sk-toggleable__label-arrow:before {content: \"▾\";}#sk-container-id-10 div.sk-estimator input.sk-toggleable__control:checked~label.sk-toggleable__label {background-color: #d4ebff;}#sk-container-id-10 div.sk-label input.sk-toggleable__control:checked~label.sk-toggleable__label {background-color: #d4ebff;}#sk-container-id-10 input.sk-hidden--visually {border: 0;clip: rect(1px 1px 1px 1px);clip: rect(1px, 1px, 1px, 1px);height: 1px;margin: -1px;overflow: hidden;padding: 0;position: absolute;width: 1px;}#sk-container-id-10 div.sk-estimator {font-family: monospace;background-color: #f0f8ff;border: 1px dotted black;border-radius: 0.25em;box-sizing: border-box;margin-bottom: 0.5em;}#sk-container-id-10 div.sk-estimator:hover {background-color: #d4ebff;}#sk-container-id-10 div.sk-parallel-item::after {content: \"\";width: 100%;border-bottom: 1px solid gray;flex-grow: 1;}#sk-container-id-10 div.sk-label:hover label.sk-toggleable__label {background-color: #d4ebff;}#sk-container-id-10 div.sk-serial::before {content: \"\";position: absolute;border-left: 1px solid gray;box-sizing: border-box;top: 0;bottom: 0;left: 50%;z-index: 0;}#sk-container-id-10 div.sk-serial {display: flex;flex-direction: column;align-items: center;background-color: white;padding-right: 0.2em;padding-left: 0.2em;position: relative;}#sk-container-id-10 div.sk-item {position: relative;z-index: 1;}#sk-container-id-10 div.sk-parallel {display: flex;align-items: stretch;justify-content: center;background-color: white;position: relative;}#sk-container-id-10 div.sk-item::before, #sk-container-id-10 div.sk-parallel-item::before {content: \"\";position: absolute;border-left: 1px solid gray;box-sizing: border-box;top: 0;bottom: 0;left: 50%;z-index: -1;}#sk-container-id-10 div.sk-parallel-item {display: flex;flex-direction: column;z-index: 1;position: relative;background-color: white;}#sk-container-id-10 div.sk-parallel-item:first-child::after {align-self: flex-end;width: 50%;}#sk-container-id-10 div.sk-parallel-item:last-child::after {align-self: flex-start;width: 50%;}#sk-container-id-10 div.sk-parallel-item:only-child::after {width: 0;}#sk-container-id-10 div.sk-dashed-wrapped {border: 1px dashed gray;margin: 0 0.4em 0.5em 0.4em;box-sizing: border-box;padding-bottom: 0.4em;background-color: white;}#sk-container-id-10 div.sk-label label {font-family: monospace;font-weight: bold;display: inline-block;line-height: 1.2em;}#sk-container-id-10 div.sk-label-container {text-align: center;}#sk-container-id-10 div.sk-container {/* jupyter's `normalize.less` sets `[hidden] { display: none; }` but bootstrap.min.css set `[hidden] { display: none !important; }` so we also need the `!important` here to be able to override the default hidden behavior on the sphinx rendered scikit-learn.org. See: https://github.com/scikit-learn/scikit-learn/issues/21755 */display: inline-block !important;position: relative;}#sk-container-id-10 div.sk-text-repr-fallback {display: none;}</style><div id=\"sk-container-id-10\" class=\"sk-top-container\"><div class=\"sk-text-repr-fallback\"><pre>XGBClassifier(base_score=None, booster=None, callbacks=None,\n",
       "              colsample_bylevel=None, colsample_bynode=None,\n",
       "              colsample_bytree=None, device=None, early_stopping_rounds=None,\n",
       "              enable_categorical=False, eval_metric=None, feature_types=None,\n",
       "              gamma=None, grow_policy=None, importance_type=None,\n",
       "              interaction_constraints=None, learning_rate=0.2, max_bin=None,\n",
       "              max_cat_threshold=None, max_cat_to_onehot=None,\n",
       "              max_delta_step=None, max_depth=5, max_leaves=None,\n",
       "              min_child_weight=3, missing=nan, monotone_constraints=None,\n",
       "              multi_strategy=None, n_estimators=200, n_jobs=None,\n",
       "              num_parallel_tree=None, objective=&#x27;multi:softprob&#x27;, ...)</pre><b>In a Jupyter environment, please rerun this cell to show the HTML representation or trust the notebook. <br />On GitHub, the HTML representation is unable to render, please try loading this page with nbviewer.org.</b></div><div class=\"sk-container\" hidden><div class=\"sk-item\"><div class=\"sk-estimator sk-toggleable\"><input class=\"sk-toggleable__control sk-hidden--visually\" id=\"sk-estimator-id-10\" type=\"checkbox\" checked><label for=\"sk-estimator-id-10\" class=\"sk-toggleable__label sk-toggleable__label-arrow\">XGBClassifier</label><div class=\"sk-toggleable__content\"><pre>XGBClassifier(base_score=None, booster=None, callbacks=None,\n",
       "              colsample_bylevel=None, colsample_bynode=None,\n",
       "              colsample_bytree=None, device=None, early_stopping_rounds=None,\n",
       "              enable_categorical=False, eval_metric=None, feature_types=None,\n",
       "              gamma=None, grow_policy=None, importance_type=None,\n",
       "              interaction_constraints=None, learning_rate=0.2, max_bin=None,\n",
       "              max_cat_threshold=None, max_cat_to_onehot=None,\n",
       "              max_delta_step=None, max_depth=5, max_leaves=None,\n",
       "              min_child_weight=3, missing=nan, monotone_constraints=None,\n",
       "              multi_strategy=None, n_estimators=200, n_jobs=None,\n",
       "              num_parallel_tree=None, objective=&#x27;multi:softprob&#x27;, ...)</pre></div></div></div></div></div>"
      ],
      "text/plain": [
       "XGBClassifier(base_score=None, booster=None, callbacks=None,\n",
       "              colsample_bylevel=None, colsample_bynode=None,\n",
       "              colsample_bytree=None, device=None, early_stopping_rounds=None,\n",
       "              enable_categorical=False, eval_metric=None, feature_types=None,\n",
       "              gamma=None, grow_policy=None, importance_type=None,\n",
       "              interaction_constraints=None, learning_rate=0.2, max_bin=None,\n",
       "              max_cat_threshold=None, max_cat_to_onehot=None,\n",
       "              max_delta_step=None, max_depth=5, max_leaves=None,\n",
       "              min_child_weight=3, missing=nan, monotone_constraints=None,\n",
       "              multi_strategy=None, n_estimators=200, n_jobs=None,\n",
       "              num_parallel_tree=None, objective='multi:softprob', ...)"
      ]
     },
     "execution_count": 68,
     "metadata": {},
     "output_type": "execute_result"
    }
   ],
   "source": [
    "model_XGB1 = XGBClassifier(learning_rate = 0.2, max_depth = 5, min_child_weight = 3 ,n_estimators = 200)\n",
    "model_XGB1.fit(X_trainX, y_trainX)"
   ]
  },
  {
   "cell_type": "markdown",
   "id": "6237aaad",
   "metadata": {},
   "source": [
    "### 정확도"
   ]
  },
  {
   "cell_type": "code",
   "execution_count": 69,
   "id": "d2609db1",
   "metadata": {},
   "outputs": [
    {
     "name": "stdout",
     "output_type": "stream",
     "text": [
      "Training set의 정확도: 0.771\n",
      "Test set의 정확도: 0.749\n"
     ]
    }
   ],
   "source": [
    "print(\"Training set의 정확도: {:.3f}\".format(model_XGB1.score(X_trainX, y_trainX)))\n",
    "print(\"Test set의 정확도: {:.3f}\".format(model_XGB1.score(X_testX, y_testX)))"
   ]
  },
  {
   "cell_type": "code",
   "execution_count": 70,
   "id": "81fe3344",
   "metadata": {},
   "outputs": [
    {
     "name": "stdout",
     "output_type": "stream",
     "text": [
      "Classification Report:\n",
      "               precision    recall  f1-score   support\n",
      "\n",
      "           0       0.73      0.61      0.66      3598\n",
      "           1       0.77      0.92      0.84     20006\n",
      "           2       0.57      0.23      0.33      5451\n",
      "\n",
      "    accuracy                           0.75     29055\n",
      "   macro avg       0.69      0.58      0.61     29055\n",
      "weighted avg       0.73      0.75      0.72     29055\n",
      "\n"
     ]
    }
   ],
   "source": [
    "# 예측\n",
    "y_pred_XGB1 = model_XGB1.predict(X_testX)\n",
    "\n",
    "# classification report 생성\n",
    "classification_rep_XGB1 = classification_report(y_testX, y_pred_XGB1)\n",
    "\n",
    "# 리포트 출력\n",
    "print(\"Classification Report:\\n\", classification_rep_XGB1 )\n",
    "\n",
    "# 0: 상해없음, 1: 경상, 2: 중상"
   ]
  },
  {
   "cell_type": "markdown",
   "id": "05d59230",
   "metadata": {},
   "source": [
    "### 특성중요도 / XGB Not Undersampling"
   ]
  },
  {
   "cell_type": "code",
   "execution_count": 71,
   "id": "f471dd91",
   "metadata": {},
   "outputs": [
    {
     "name": "stdout",
     "output_type": "stream",
     "text": [
      "피해운전자 연령: 1557.0\n",
      "가해운전자 연령: 1423.0\n",
      "가해운전자 차종_승용: 243.0\n",
      "가해운전자 차종_이륜: 233.0\n",
      "피해운전자 차종_승용: 225.0\n",
      "법규위반_안전운전불이행: 196.0\n",
      "도로형태_교차로: 193.0\n",
      "가해운전자 차종_자전거: 177.0\n",
      "법규위반_큰 위반: 168.0\n",
      "피해운전자 성별_남: 164.0\n"
     ]
    }
   ],
   "source": [
    "# 특성 중요도 얻기\n",
    "feature_importances_XGB1 = model_XGB1.get_booster().get_fscore()\n",
    "\n",
    "# 특성 중요도를 특성 이름과 함께 매핑\n",
    "feature_importance_dict_XGB1 = dict(zip(X.columns, feature_importances_XGB1))\n",
    "\n",
    "# 특성 중요도를 기준으로 내림차순 정렬\n",
    "sorted_feature_importances_XGB1 = sorted(feature_importances_XGB1.items(), key=lambda x: x[1], reverse=True)\n",
    "\n",
    "count = 0\n",
    "for feature, importance in sorted_feature_importances_XGB1:\n",
    "    print(f\"{feature}: {importance}\")\n",
    "    count += 1\n",
    "    if count == 10:\n",
    "        break"
   ]
  },
  {
   "cell_type": "markdown",
   "id": "5f6a2ff8",
   "metadata": {},
   "source": [
    "# XGBoost / Under Sampling"
   ]
  },
  {
   "cell_type": "markdown",
   "id": "30bf4645",
   "metadata": {},
   "source": [
    "## XGB Undersampling 1:1:1"
   ]
  },
  {
   "cell_type": "code",
   "execution_count": 72,
   "id": "60a55e36",
   "metadata": {},
   "outputs": [
    {
     "data": {
      "text/plain": [
       "56130    1\n",
       "70765    1\n",
       "80066    1\n",
       "30903    1\n",
       "86778    1\n",
       "        ..\n",
       "72888    2\n",
       "35721    2\n",
       "47745    2\n",
       "67504    2\n",
       "59924    2\n",
       "Name: 피해운전자 상해정도, Length: 35571, dtype: int64"
      ]
     },
     "execution_count": 72,
     "metadata": {},
     "output_type": "execute_result"
    }
   ],
   "source": [
    "y_resampled_mapping1 = y_resampled1.map(class_mapping)\n",
    "y_resampled_mapping1"
   ]
  },
  {
   "cell_type": "markdown",
   "id": "fa6ff6c5",
   "metadata": {},
   "source": [
    "### Train set과 Test set 설정"
   ]
  },
  {
   "cell_type": "code",
   "execution_count": 73,
   "id": "3f70f137",
   "metadata": {},
   "outputs": [],
   "source": [
    "X_resampled_trainX1, X_resampled_testX1, y_resampled_trainX1, y_resampled_testX1 = train_test_split(X_resampled1,y_resampled_mapping1, test_size=0.3, random_state=42)"
   ]
  },
  {
   "cell_type": "markdown",
   "id": "0e004581",
   "metadata": {},
   "source": [
    "### 그리드 서치"
   ]
  },
  {
   "cell_type": "code",
   "execution_count": 74,
   "id": "e72388b8",
   "metadata": {},
   "outputs": [],
   "source": [
    "# grid_search_XGB2 = GridSearchCV(model_XGB, param_grid_XG, cv=3, scoring='accuracy')\n",
    "# grid_search_XGB2.fit(X_resampled_trainX1, y_resampled_trainX1)\n",
    "\n",
    "# print(\"Best Hyperparameters:\", grid_search_XGB2.best_params_)"
   ]
  },
  {
   "cell_type": "markdown",
   "id": "e2ff67f1",
   "metadata": {},
   "source": [
    "### XGBoost"
   ]
  },
  {
   "cell_type": "code",
   "execution_count": 75,
   "id": "40feadc2",
   "metadata": {},
   "outputs": [
    {
     "data": {
      "text/html": [
       "<style>#sk-container-id-11 {color: black;}#sk-container-id-11 pre{padding: 0;}#sk-container-id-11 div.sk-toggleable {background-color: white;}#sk-container-id-11 label.sk-toggleable__label {cursor: pointer;display: block;width: 100%;margin-bottom: 0;padding: 0.3em;box-sizing: border-box;text-align: center;}#sk-container-id-11 label.sk-toggleable__label-arrow:before {content: \"▸\";float: left;margin-right: 0.25em;color: #696969;}#sk-container-id-11 label.sk-toggleable__label-arrow:hover:before {color: black;}#sk-container-id-11 div.sk-estimator:hover label.sk-toggleable__label-arrow:before {color: black;}#sk-container-id-11 div.sk-toggleable__content {max-height: 0;max-width: 0;overflow: hidden;text-align: left;background-color: #f0f8ff;}#sk-container-id-11 div.sk-toggleable__content pre {margin: 0.2em;color: black;border-radius: 0.25em;background-color: #f0f8ff;}#sk-container-id-11 input.sk-toggleable__control:checked~div.sk-toggleable__content {max-height: 200px;max-width: 100%;overflow: auto;}#sk-container-id-11 input.sk-toggleable__control:checked~label.sk-toggleable__label-arrow:before {content: \"▾\";}#sk-container-id-11 div.sk-estimator input.sk-toggleable__control:checked~label.sk-toggleable__label {background-color: #d4ebff;}#sk-container-id-11 div.sk-label input.sk-toggleable__control:checked~label.sk-toggleable__label {background-color: #d4ebff;}#sk-container-id-11 input.sk-hidden--visually {border: 0;clip: rect(1px 1px 1px 1px);clip: rect(1px, 1px, 1px, 1px);height: 1px;margin: -1px;overflow: hidden;padding: 0;position: absolute;width: 1px;}#sk-container-id-11 div.sk-estimator {font-family: monospace;background-color: #f0f8ff;border: 1px dotted black;border-radius: 0.25em;box-sizing: border-box;margin-bottom: 0.5em;}#sk-container-id-11 div.sk-estimator:hover {background-color: #d4ebff;}#sk-container-id-11 div.sk-parallel-item::after {content: \"\";width: 100%;border-bottom: 1px solid gray;flex-grow: 1;}#sk-container-id-11 div.sk-label:hover label.sk-toggleable__label {background-color: #d4ebff;}#sk-container-id-11 div.sk-serial::before {content: \"\";position: absolute;border-left: 1px solid gray;box-sizing: border-box;top: 0;bottom: 0;left: 50%;z-index: 0;}#sk-container-id-11 div.sk-serial {display: flex;flex-direction: column;align-items: center;background-color: white;padding-right: 0.2em;padding-left: 0.2em;position: relative;}#sk-container-id-11 div.sk-item {position: relative;z-index: 1;}#sk-container-id-11 div.sk-parallel {display: flex;align-items: stretch;justify-content: center;background-color: white;position: relative;}#sk-container-id-11 div.sk-item::before, #sk-container-id-11 div.sk-parallel-item::before {content: \"\";position: absolute;border-left: 1px solid gray;box-sizing: border-box;top: 0;bottom: 0;left: 50%;z-index: -1;}#sk-container-id-11 div.sk-parallel-item {display: flex;flex-direction: column;z-index: 1;position: relative;background-color: white;}#sk-container-id-11 div.sk-parallel-item:first-child::after {align-self: flex-end;width: 50%;}#sk-container-id-11 div.sk-parallel-item:last-child::after {align-self: flex-start;width: 50%;}#sk-container-id-11 div.sk-parallel-item:only-child::after {width: 0;}#sk-container-id-11 div.sk-dashed-wrapped {border: 1px dashed gray;margin: 0 0.4em 0.5em 0.4em;box-sizing: border-box;padding-bottom: 0.4em;background-color: white;}#sk-container-id-11 div.sk-label label {font-family: monospace;font-weight: bold;display: inline-block;line-height: 1.2em;}#sk-container-id-11 div.sk-label-container {text-align: center;}#sk-container-id-11 div.sk-container {/* jupyter's `normalize.less` sets `[hidden] { display: none; }` but bootstrap.min.css set `[hidden] { display: none !important; }` so we also need the `!important` here to be able to override the default hidden behavior on the sphinx rendered scikit-learn.org. See: https://github.com/scikit-learn/scikit-learn/issues/21755 */display: inline-block !important;position: relative;}#sk-container-id-11 div.sk-text-repr-fallback {display: none;}</style><div id=\"sk-container-id-11\" class=\"sk-top-container\"><div class=\"sk-text-repr-fallback\"><pre>XGBClassifier(base_score=None, booster=None, callbacks=None,\n",
       "              colsample_bylevel=None, colsample_bynode=None,\n",
       "              colsample_bytree=None, device=None, early_stopping_rounds=None,\n",
       "              enable_categorical=False, eval_metric=None, feature_types=None,\n",
       "              gamma=None, grow_policy=None, importance_type=None,\n",
       "              interaction_constraints=None, learning_rate=0.2, max_bin=None,\n",
       "              max_cat_threshold=None, max_cat_to_onehot=None,\n",
       "              max_delta_step=None, max_depth=5, max_leaves=None,\n",
       "              min_child_weight=3, missing=nan, monotone_constraints=None,\n",
       "              multi_strategy=None, n_estimators=50, n_jobs=None,\n",
       "              num_parallel_tree=None, objective=&#x27;multi:softprob&#x27;, ...)</pre><b>In a Jupyter environment, please rerun this cell to show the HTML representation or trust the notebook. <br />On GitHub, the HTML representation is unable to render, please try loading this page with nbviewer.org.</b></div><div class=\"sk-container\" hidden><div class=\"sk-item\"><div class=\"sk-estimator sk-toggleable\"><input class=\"sk-toggleable__control sk-hidden--visually\" id=\"sk-estimator-id-11\" type=\"checkbox\" checked><label for=\"sk-estimator-id-11\" class=\"sk-toggleable__label sk-toggleable__label-arrow\">XGBClassifier</label><div class=\"sk-toggleable__content\"><pre>XGBClassifier(base_score=None, booster=None, callbacks=None,\n",
       "              colsample_bylevel=None, colsample_bynode=None,\n",
       "              colsample_bytree=None, device=None, early_stopping_rounds=None,\n",
       "              enable_categorical=False, eval_metric=None, feature_types=None,\n",
       "              gamma=None, grow_policy=None, importance_type=None,\n",
       "              interaction_constraints=None, learning_rate=0.2, max_bin=None,\n",
       "              max_cat_threshold=None, max_cat_to_onehot=None,\n",
       "              max_delta_step=None, max_depth=5, max_leaves=None,\n",
       "              min_child_weight=3, missing=nan, monotone_constraints=None,\n",
       "              multi_strategy=None, n_estimators=50, n_jobs=None,\n",
       "              num_parallel_tree=None, objective=&#x27;multi:softprob&#x27;, ...)</pre></div></div></div></div></div>"
      ],
      "text/plain": [
       "XGBClassifier(base_score=None, booster=None, callbacks=None,\n",
       "              colsample_bylevel=None, colsample_bynode=None,\n",
       "              colsample_bytree=None, device=None, early_stopping_rounds=None,\n",
       "              enable_categorical=False, eval_metric=None, feature_types=None,\n",
       "              gamma=None, grow_policy=None, importance_type=None,\n",
       "              interaction_constraints=None, learning_rate=0.2, max_bin=None,\n",
       "              max_cat_threshold=None, max_cat_to_onehot=None,\n",
       "              max_delta_step=None, max_depth=5, max_leaves=None,\n",
       "              min_child_weight=3, missing=nan, monotone_constraints=None,\n",
       "              multi_strategy=None, n_estimators=50, n_jobs=None,\n",
       "              num_parallel_tree=None, objective='multi:softprob', ...)"
      ]
     },
     "execution_count": 75,
     "metadata": {},
     "output_type": "execute_result"
    }
   ],
   "source": [
    "model_XGB2 = XGBClassifier(learning_rate = 0.2, max_depth = 5, min_child_weight = 3 ,n_estimators = 50)\n",
    "model_XGB2.fit(X_resampled_trainX1, y_resampled_trainX1)"
   ]
  },
  {
   "cell_type": "markdown",
   "id": "5d8a842a",
   "metadata": {},
   "source": [
    "### 정확도"
   ]
  },
  {
   "cell_type": "code",
   "execution_count": 76,
   "id": "edf9144a",
   "metadata": {},
   "outputs": [
    {
     "name": "stdout",
     "output_type": "stream",
     "text": [
      "Training set의 정확도: 0.710\n",
      "Test set의 정확도: 0.687\n"
     ]
    }
   ],
   "source": [
    "print(\"Training set의 정확도: {:.3f}\".format(model_XGB2.score(X_resampled_trainX1, y_resampled_trainX1)))\n",
    "print(\"Test set의 정확도: {:.3f}\".format(model_XGB2.score(X_resampled_testX1, y_resampled_testX1)))"
   ]
  },
  {
   "cell_type": "code",
   "execution_count": 77,
   "id": "f71dc438",
   "metadata": {},
   "outputs": [
    {
     "name": "stdout",
     "output_type": "stream",
     "text": [
      "Classification Report:\n",
      "               precision    recall  f1-score   support\n",
      "\n",
      "           0       0.83      0.77      0.80      3552\n",
      "           1       0.57      0.58      0.57      3550\n",
      "           2       0.67      0.71      0.69      3570\n",
      "\n",
      "    accuracy                           0.69     10672\n",
      "   macro avg       0.69      0.69      0.69     10672\n",
      "weighted avg       0.69      0.69      0.69     10672\n",
      "\n"
     ]
    }
   ],
   "source": [
    "# 예측\n",
    "y_pred_XGB2 = model_XGB2.predict(X_resampled_testX1)\n",
    "\n",
    "# classification report 생성\n",
    "classification_rep_XGB2 = classification_report(y_resampled_testX1, y_pred_XGB2)\n",
    "\n",
    "# 리포트 출력\n",
    "print(\"Classification Report:\\n\", classification_rep_XGB2 )\n",
    "\n",
    "# 0: 상해없음, 1: 경상, 2: 중상"
   ]
  },
  {
   "cell_type": "markdown",
   "id": "7cabf7c1",
   "metadata": {},
   "source": [
    "### 특성중요도 / XGB Undersampling 1:1:1"
   ]
  },
  {
   "cell_type": "code",
   "execution_count": 78,
   "id": "300e9d2d",
   "metadata": {},
   "outputs": [
    {
     "name": "stdout",
     "output_type": "stream",
     "text": [
      "피해운전자 연령: 455.0\n",
      "가해운전자 연령: 360.0\n",
      "가해운전자 차종_자전거: 125.0\n",
      "가해운전자 차종_이륜: 123.0\n",
      "법규위반_큰 위반: 99.0\n",
      "피해운전자 차종_승용: 99.0\n",
      "피해운전자 차종_승합: 90.0\n",
      "가해운전자 차종_승용: 88.0\n",
      "피해운전자 성별_남: 83.0\n",
      "피해운전자 차종_이륜: 81.0\n"
     ]
    }
   ],
   "source": [
    "# 특성 중요도 얻기\n",
    "feature_importances_XGB2 = model_XGB2.get_booster().get_fscore()\n",
    "\n",
    "# 특성 중요도를 특성 이름과 함께 매핑\n",
    "feature_importances_dict_XGB2 = dict(zip(X.columns, feature_importances_XGB2))\n",
    "\n",
    "# 특성 중요도를 기준으로 내림차순 정렬\n",
    "sorted_feature_importances_XGB2 = sorted(feature_importances_XGB2.items(), key=lambda x: x[1], reverse=True)\n",
    "\n",
    "count = 0\n",
    "for feature, importance in sorted_feature_importances_XGB2:\n",
    "    print(f\"{feature}: {importance}\")\n",
    "    count += 1\n",
    "    if count == 10:\n",
    "        break\n",
    "\n"
   ]
  },
  {
   "cell_type": "markdown",
   "id": "24b2b550",
   "metadata": {},
   "source": [
    "## XGB Undersampling 1:1:2"
   ]
  },
  {
   "cell_type": "code",
   "execution_count": 79,
   "id": "fcd9bed6",
   "metadata": {},
   "outputs": [
    {
     "data": {
      "text/plain": [
       "56130    1\n",
       "70765    1\n",
       "80066    1\n",
       "30903    1\n",
       "86778    1\n",
       "        ..\n",
       "72888    2\n",
       "35721    2\n",
       "47745    2\n",
       "67504    2\n",
       "59924    2\n",
       "Name: 피해운전자 상해정도, Length: 47428, dtype: int64"
      ]
     },
     "execution_count": 79,
     "metadata": {},
     "output_type": "execute_result"
    }
   ],
   "source": [
    "y_resampled_mapping2 = y_resampled2.map(class_mapping)\n",
    "y_resampled_mapping2"
   ]
  },
  {
   "cell_type": "markdown",
   "id": "5d3e1ea1",
   "metadata": {},
   "source": [
    "### Train set과 Test set 설정 "
   ]
  },
  {
   "cell_type": "code",
   "execution_count": 80,
   "id": "656ce481",
   "metadata": {},
   "outputs": [],
   "source": [
    "X_resampled_trainX2, X_resampled_testX2, y_resampled_trainX2, y_resampled_testX2 = train_test_split(X_resampled2,y_resampled_mapping2, test_size=0.3, random_state=42)"
   ]
  },
  {
   "cell_type": "markdown",
   "id": "288ee433",
   "metadata": {},
   "source": [
    "### 그리드 서치"
   ]
  },
  {
   "cell_type": "code",
   "execution_count": 81,
   "id": "0f6b430f",
   "metadata": {},
   "outputs": [],
   "source": [
    "# grid_search_XGB3 = GridSearchCV(model_XGB, param_grid_XG, cv=3, scoring='accuracy')\n",
    "# grid_search_XGB3.fit(X_resampled_trainX2, y_resampled_trainX2)\n",
    "\n",
    "# print(\"Best Hyperparameters:\", grid_search_XGB3.best_params_)"
   ]
  },
  {
   "cell_type": "markdown",
   "id": "d10e3db6",
   "metadata": {},
   "source": [
    "### XGBoost"
   ]
  },
  {
   "cell_type": "code",
   "execution_count": 82,
   "id": "dd1b21ae",
   "metadata": {},
   "outputs": [
    {
     "data": {
      "text/html": [
       "<style>#sk-container-id-12 {color: black;}#sk-container-id-12 pre{padding: 0;}#sk-container-id-12 div.sk-toggleable {background-color: white;}#sk-container-id-12 label.sk-toggleable__label {cursor: pointer;display: block;width: 100%;margin-bottom: 0;padding: 0.3em;box-sizing: border-box;text-align: center;}#sk-container-id-12 label.sk-toggleable__label-arrow:before {content: \"▸\";float: left;margin-right: 0.25em;color: #696969;}#sk-container-id-12 label.sk-toggleable__label-arrow:hover:before {color: black;}#sk-container-id-12 div.sk-estimator:hover label.sk-toggleable__label-arrow:before {color: black;}#sk-container-id-12 div.sk-toggleable__content {max-height: 0;max-width: 0;overflow: hidden;text-align: left;background-color: #f0f8ff;}#sk-container-id-12 div.sk-toggleable__content pre {margin: 0.2em;color: black;border-radius: 0.25em;background-color: #f0f8ff;}#sk-container-id-12 input.sk-toggleable__control:checked~div.sk-toggleable__content {max-height: 200px;max-width: 100%;overflow: auto;}#sk-container-id-12 input.sk-toggleable__control:checked~label.sk-toggleable__label-arrow:before {content: \"▾\";}#sk-container-id-12 div.sk-estimator input.sk-toggleable__control:checked~label.sk-toggleable__label {background-color: #d4ebff;}#sk-container-id-12 div.sk-label input.sk-toggleable__control:checked~label.sk-toggleable__label {background-color: #d4ebff;}#sk-container-id-12 input.sk-hidden--visually {border: 0;clip: rect(1px 1px 1px 1px);clip: rect(1px, 1px, 1px, 1px);height: 1px;margin: -1px;overflow: hidden;padding: 0;position: absolute;width: 1px;}#sk-container-id-12 div.sk-estimator {font-family: monospace;background-color: #f0f8ff;border: 1px dotted black;border-radius: 0.25em;box-sizing: border-box;margin-bottom: 0.5em;}#sk-container-id-12 div.sk-estimator:hover {background-color: #d4ebff;}#sk-container-id-12 div.sk-parallel-item::after {content: \"\";width: 100%;border-bottom: 1px solid gray;flex-grow: 1;}#sk-container-id-12 div.sk-label:hover label.sk-toggleable__label {background-color: #d4ebff;}#sk-container-id-12 div.sk-serial::before {content: \"\";position: absolute;border-left: 1px solid gray;box-sizing: border-box;top: 0;bottom: 0;left: 50%;z-index: 0;}#sk-container-id-12 div.sk-serial {display: flex;flex-direction: column;align-items: center;background-color: white;padding-right: 0.2em;padding-left: 0.2em;position: relative;}#sk-container-id-12 div.sk-item {position: relative;z-index: 1;}#sk-container-id-12 div.sk-parallel {display: flex;align-items: stretch;justify-content: center;background-color: white;position: relative;}#sk-container-id-12 div.sk-item::before, #sk-container-id-12 div.sk-parallel-item::before {content: \"\";position: absolute;border-left: 1px solid gray;box-sizing: border-box;top: 0;bottom: 0;left: 50%;z-index: -1;}#sk-container-id-12 div.sk-parallel-item {display: flex;flex-direction: column;z-index: 1;position: relative;background-color: white;}#sk-container-id-12 div.sk-parallel-item:first-child::after {align-self: flex-end;width: 50%;}#sk-container-id-12 div.sk-parallel-item:last-child::after {align-self: flex-start;width: 50%;}#sk-container-id-12 div.sk-parallel-item:only-child::after {width: 0;}#sk-container-id-12 div.sk-dashed-wrapped {border: 1px dashed gray;margin: 0 0.4em 0.5em 0.4em;box-sizing: border-box;padding-bottom: 0.4em;background-color: white;}#sk-container-id-12 div.sk-label label {font-family: monospace;font-weight: bold;display: inline-block;line-height: 1.2em;}#sk-container-id-12 div.sk-label-container {text-align: center;}#sk-container-id-12 div.sk-container {/* jupyter's `normalize.less` sets `[hidden] { display: none; }` but bootstrap.min.css set `[hidden] { display: none !important; }` so we also need the `!important` here to be able to override the default hidden behavior on the sphinx rendered scikit-learn.org. See: https://github.com/scikit-learn/scikit-learn/issues/21755 */display: inline-block !important;position: relative;}#sk-container-id-12 div.sk-text-repr-fallback {display: none;}</style><div id=\"sk-container-id-12\" class=\"sk-top-container\"><div class=\"sk-text-repr-fallback\"><pre>XGBClassifier(base_score=None, booster=None, callbacks=None,\n",
       "              colsample_bylevel=None, colsample_bynode=None,\n",
       "              colsample_bytree=None, device=None, early_stopping_rounds=None,\n",
       "              enable_categorical=False, eval_metric=None, feature_types=None,\n",
       "              gamma=None, grow_policy=None, importance_type=None,\n",
       "              interaction_constraints=None, learning_rate=0.1, max_bin=None,\n",
       "              max_cat_threshold=None, max_cat_to_onehot=None,\n",
       "              max_delta_step=None, max_depth=5, max_leaves=None,\n",
       "              min_child_weight=1, missing=nan, monotone_constraints=None,\n",
       "              multi_strategy=None, n_estimators=50, n_jobs=None,\n",
       "              num_parallel_tree=None, objective=&#x27;multi:softprob&#x27;, ...)</pre><b>In a Jupyter environment, please rerun this cell to show the HTML representation or trust the notebook. <br />On GitHub, the HTML representation is unable to render, please try loading this page with nbviewer.org.</b></div><div class=\"sk-container\" hidden><div class=\"sk-item\"><div class=\"sk-estimator sk-toggleable\"><input class=\"sk-toggleable__control sk-hidden--visually\" id=\"sk-estimator-id-12\" type=\"checkbox\" checked><label for=\"sk-estimator-id-12\" class=\"sk-toggleable__label sk-toggleable__label-arrow\">XGBClassifier</label><div class=\"sk-toggleable__content\"><pre>XGBClassifier(base_score=None, booster=None, callbacks=None,\n",
       "              colsample_bylevel=None, colsample_bynode=None,\n",
       "              colsample_bytree=None, device=None, early_stopping_rounds=None,\n",
       "              enable_categorical=False, eval_metric=None, feature_types=None,\n",
       "              gamma=None, grow_policy=None, importance_type=None,\n",
       "              interaction_constraints=None, learning_rate=0.1, max_bin=None,\n",
       "              max_cat_threshold=None, max_cat_to_onehot=None,\n",
       "              max_delta_step=None, max_depth=5, max_leaves=None,\n",
       "              min_child_weight=1, missing=nan, monotone_constraints=None,\n",
       "              multi_strategy=None, n_estimators=50, n_jobs=None,\n",
       "              num_parallel_tree=None, objective=&#x27;multi:softprob&#x27;, ...)</pre></div></div></div></div></div>"
      ],
      "text/plain": [
       "XGBClassifier(base_score=None, booster=None, callbacks=None,\n",
       "              colsample_bylevel=None, colsample_bynode=None,\n",
       "              colsample_bytree=None, device=None, early_stopping_rounds=None,\n",
       "              enable_categorical=False, eval_metric=None, feature_types=None,\n",
       "              gamma=None, grow_policy=None, importance_type=None,\n",
       "              interaction_constraints=None, learning_rate=0.1, max_bin=None,\n",
       "              max_cat_threshold=None, max_cat_to_onehot=None,\n",
       "              max_delta_step=None, max_depth=5, max_leaves=None,\n",
       "              min_child_weight=1, missing=nan, monotone_constraints=None,\n",
       "              multi_strategy=None, n_estimators=50, n_jobs=None,\n",
       "              num_parallel_tree=None, objective='multi:softprob', ...)"
      ]
     },
     "execution_count": 82,
     "metadata": {},
     "output_type": "execute_result"
    }
   ],
   "source": [
    "model_XGB3 = XGBClassifier(learning_rate = 0.1, max_depth = 5, min_child_weight = 1 ,n_estimators = 50)\n",
    "model_XGB3.fit(X_resampled_trainX2, y_resampled_trainX2)"
   ]
  },
  {
   "cell_type": "markdown",
   "id": "b19b9067",
   "metadata": {},
   "source": [
    "### 정확도"
   ]
  },
  {
   "cell_type": "code",
   "execution_count": 83,
   "id": "f23fbf78",
   "metadata": {},
   "outputs": [
    {
     "name": "stdout",
     "output_type": "stream",
     "text": [
      "Training set의 정확도: 0.698\n",
      "Test set의 정확도: 0.692\n"
     ]
    }
   ],
   "source": [
    "print(\"Training set의 정확도: {:.3f}\".format(model_XGB3.score(X_resampled_trainX2, y_resampled_trainX2)))\n",
    "print(\"Test set의 정확도: {:.3f}\".format(model_XGB3.score(X_resampled_testX2, y_resampled_testX2)))"
   ]
  },
  {
   "cell_type": "code",
   "execution_count": 84,
   "id": "a594e592",
   "metadata": {},
   "outputs": [
    {
     "name": "stdout",
     "output_type": "stream",
     "text": [
      "Classification Report:\n",
      "               precision    recall  f1-score   support\n",
      "\n",
      "           0       0.83      0.71      0.76      3605\n",
      "           1       0.67      0.80      0.73      7138\n",
      "           2       0.60      0.47      0.53      3486\n",
      "\n",
      "    accuracy                           0.69     14229\n",
      "   macro avg       0.70      0.66      0.67     14229\n",
      "weighted avg       0.69      0.69      0.69     14229\n",
      "\n"
     ]
    }
   ],
   "source": [
    "# 예측\n",
    "y_pred_XGB3 = model_XGB3.predict(X_resampled_testX2)\n",
    "\n",
    "# classification report 생성\n",
    "classification_rep_XGB3 = classification_report(y_resampled_testX2, y_pred_XGB3)\n",
    "\n",
    "# 리포트 출력\n",
    "print(\"Classification Report:\\n\", classification_rep_XGB3 )\n",
    "\n",
    "# 0: 상해없음, 1: 경상, 2: 중상"
   ]
  },
  {
   "cell_type": "markdown",
   "id": "687ab415",
   "metadata": {},
   "source": [
    "### 특성중요도 / XGB Undersampling 1:1:2"
   ]
  },
  {
   "cell_type": "code",
   "execution_count": 85,
   "id": "3aefe975",
   "metadata": {},
   "outputs": [
    {
     "name": "stdout",
     "output_type": "stream",
     "text": [
      "피해운전자 연령: 545.0\n",
      "가해운전자 연령: 356.0\n",
      "가해운전자 차종_자전거: 229.0\n",
      "가해운전자 차종_이륜: 220.0\n",
      "피해운전자 차종_승합: 166.0\n",
      "피해운전자 차종_승용: 162.0\n",
      "법규위반_큰 위반: 144.0\n",
      "피해운전자 성별_남: 113.0\n",
      "피해운전자 차종_이륜: 106.0\n",
      "피해운전자 차종_화물: 97.0\n"
     ]
    }
   ],
   "source": [
    "# 특성 중요도 얻기\n",
    "feature_importances_XGB3 = model_XGB3.get_booster().get_fscore()\n",
    "\n",
    "# 특성 중요도를 특성 이름과 함께 매핑\n",
    "feature_importances_dict_XGB3 = dict(zip(X.columns, feature_importances_XGB3))\n",
    "\n",
    "# 특성 중요도를 기준으로 내림차순 정렬\n",
    "sorted_feature_importances_XGB3 = sorted(feature_importances_XGB3.items(), key=lambda x: x[1], reverse=True)\n",
    "\n",
    "count = 0\n",
    "for feature, importance in sorted_feature_importances_XGB3:\n",
    "    print(f\"{feature}: {importance}\")\n",
    "    count += 1\n",
    "    if count == 10:\n",
    "        break\n",
    "\n"
   ]
  },
  {
   "cell_type": "code",
   "execution_count": null,
   "id": "7d999c82",
   "metadata": {},
   "outputs": [],
   "source": []
  },
  {
   "cell_type": "markdown",
   "id": "7e323a03",
   "metadata": {},
   "source": [
    "## 추가 논문 평가지표 비교"
   ]
  },
  {
   "cell_type": "markdown",
   "id": "8016037f",
   "metadata": {},
   "source": [
    "### DT 비교"
   ]
  },
  {
   "cell_type": "code",
   "execution_count": 114,
   "id": "88a67a65",
   "metadata": {},
   "outputs": [
    {
     "name": "stdout",
     "output_type": "stream",
     "text": [
      "DT 경상 - Sensitivity: 0.609, Specificity: 0.745\n",
      "DT 상해없음 - Sensitivity: 0.713, Specificity: 0.953\n",
      "DT 중상 - Sensitivity: 0.712, Specificity: 0.819\n"
     ]
    }
   ],
   "source": [
    "from sklearn.metrics import confusion_matrix\n",
    "\n",
    "unique_classes = sorted(y_resampled_test1.unique())  \n",
    "num_classes = len(unique_classes)\n",
    "\n",
    "cm = confusion_matrix(y_resampled_test1, y_pred_tree2)\n",
    "\n",
    "for i in range(num_classes): # 3개 클래스\n",
    "    class_label = unique_classes[i]\n",
    "    TP = cm[i, i]\n",
    "    FN = sum(cm[i, :]) - TP\n",
    "    TN = sum(sum(cm)) - sum(cm[i, :]) - sum(cm[:, i]) + TP\n",
    "    FP = sum(cm[:, i]) - TP\n",
    "\n",
    "    sensitivity = TP / (TP + FN) \n",
    "    specificity = TN / (TN + FP)\n",
    "\n",
    "    print(f\"DT {class_label} - Sensitivity: {sensitivity:.3f}, Specificity: {specificity:.3f}\")\n"
   ]
  },
  {
   "cell_type": "markdown",
   "id": "14a7b9bd",
   "metadata": {},
   "source": [
    "## RF 비교"
   ]
  },
  {
   "cell_type": "code",
   "execution_count": 117,
   "id": "2a6f8e62",
   "metadata": {},
   "outputs": [
    {
     "name": "stdout",
     "output_type": "stream",
     "text": [
      "RF 경상 - Sensitivity: 0.517, Specificity: 0.806\n",
      "RF 상해없음 - Sensitivity: 0.771, Specificity: 0.913\n",
      "RF 중상 - Sensitivity: 0.754, Specificity: 0.802\n"
     ]
    }
   ],
   "source": [
    "unique_classes = sorted(y_resampled_test1.unique())  # Assuming y_resampled_test1 is a pandas Series\n",
    "num_classes = len(unique_classes)\n",
    "\n",
    "cm = confusion_matrix(y_resampled_test1, y_pred_rf2)\n",
    "\n",
    "for i in range(num_classes): # 3개 클래스\n",
    "    class_label = unique_classes[i]\n",
    "    TP = cm[i, i]\n",
    "    FN = sum(cm[i, :]) - TP\n",
    "    TN = sum(sum(cm)) - sum(cm[i, :]) - sum(cm[:, i]) + TP\n",
    "    FP = sum(cm[:, i]) - TP\n",
    "\n",
    "    sensitivity = TP / (TP + FN) \n",
    "    specificity = TN / (TN + FP)\n",
    "\n",
    "    print(f\"RF {class_label} - Sensitivity: {sensitivity:.3f}, Specificity: {specificity:.3f}\")\n"
   ]
  },
  {
   "cell_type": "markdown",
   "id": "a2f1af27",
   "metadata": {},
   "source": [
    "## NB 비교"
   ]
  },
  {
   "cell_type": "code",
   "execution_count": 116,
   "id": "3df32103",
   "metadata": {},
   "outputs": [
    {
     "name": "stdout",
     "output_type": "stream",
     "text": [
      " NB 경상 - Sensitivity: 0.540, Specificity: 0.710\n",
      " NB 상해없음 - Sensitivity: 0.747, Specificity: 0.804\n",
      " NB 중상 - Sensitivity: 0.510, Specificity: 0.885\n"
     ]
    }
   ],
   "source": [
    "unique_classes = sorted(y_resampled_test1.unique())  # Assuming y_resampled_test1 is a pandas Series\n",
    "num_classes = len(unique_classes)\n",
    "\n",
    "cm = confusion_matrix(y_resampled_test1, y_pred_nb2)\n",
    "\n",
    "for i in range(num_classes): # 3개 클래스\n",
    "    class_label = unique_classes[i]\n",
    "    TP = cm[i, i]\n",
    "    FN = sum(cm[i, :]) - TP\n",
    "    TN = sum(sum(cm)) - sum(cm[i, :]) - sum(cm[:, i]) + TP\n",
    "    FP = sum(cm[:, i]) - TP\n",
    "\n",
    "    sensitivity = TP / (TP + FN) \n",
    "    specificity = TN / (TN + FP)\n",
    "\n",
    "    print(f\" NB {class_label} - Sensitivity: {sensitivity:.3f}, Specificity: {specificity:.3f}\")\n"
   ]
  }
 ],
 "metadata": {
  "kernelspec": {
   "display_name": "Python 3 (ipykernel)",
   "language": "python",
   "name": "python3"
  },
  "language_info": {
   "codemirror_mode": {
    "name": "ipython",
    "version": 3
   },
   "file_extension": ".py",
   "mimetype": "text/x-python",
   "name": "python",
   "nbconvert_exporter": "python",
   "pygments_lexer": "ipython3",
   "version": "3.9.6"
  }
 },
 "nbformat": 4,
 "nbformat_minor": 5
}
